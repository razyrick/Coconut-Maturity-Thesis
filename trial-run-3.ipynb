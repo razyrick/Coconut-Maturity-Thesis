version https://git-lfs.github.com/spec/v1
oid sha256:a372b06bef18be5a4b6fd81cede680912cc428b637f2d8ab814102da387ba35b
size 73805
