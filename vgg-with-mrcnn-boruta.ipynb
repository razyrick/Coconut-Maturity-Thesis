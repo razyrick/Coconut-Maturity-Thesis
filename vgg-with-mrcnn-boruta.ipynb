{
 "cells": [
  {
   "cell_type": "code",
   "execution_count": 1,
   "id": "fb0a1d0f",
   "metadata": {
    "execution": {
     "iopub.execute_input": "2024-07-20T05:48:21.018605Z",
     "iopub.status.busy": "2024-07-20T05:48:21.017957Z",
     "iopub.status.idle": "2024-07-20T05:48:34.111781Z",
     "shell.execute_reply": "2024-07-20T05:48:34.111014Z"
    },
    "papermill": {
     "duration": 13.10308,
     "end_time": "2024-07-20T05:48:34.114069",
     "exception": false,
     "start_time": "2024-07-20T05:48:21.010989",
     "status": "completed"
    },
    "tags": []
   },
   "outputs": [
    {
     "name": "stderr",
     "output_type": "stream",
     "text": [
      "2024-07-20 05:48:22.563010: E external/local_xla/xla/stream_executor/cuda/cuda_dnn.cc:9261] Unable to register cuDNN factory: Attempting to register factory for plugin cuDNN when one has already been registered\n",
      "2024-07-20 05:48:22.563107: E external/local_xla/xla/stream_executor/cuda/cuda_fft.cc:607] Unable to register cuFFT factory: Attempting to register factory for plugin cuFFT when one has already been registered\n",
      "2024-07-20 05:48:22.682132: E external/local_xla/xla/stream_executor/cuda/cuda_blas.cc:1515] Unable to register cuBLAS factory: Attempting to register factory for plugin cuBLAS when one has already been registered\n"
     ]
    }
   ],
   "source": [
    "import tensorflow as tf\n",
    "from tensorflow.keras.applications import VGG16\n",
    "from tensorflow.keras.preprocessing.image import ImageDataGenerator\n",
    "from tensorflow.keras.preprocessing import image\n",
    "from tensorflow.keras.applications.vgg16 import preprocess_input\n",
    "from sklearn.ensemble import RandomForestClassifier\n",
    "from boruta import BorutaPy\n",
    "from sklearn.preprocessing import LabelEncoder\n",
    "from tensorflow.keras.callbacks import EarlyStopping, ModelCheckpoint, TensorBoard\n",
    "from sklearn.metrics import f1_score, precision_score, recall_score, roc_auc_score, confusion_matrix\n",
    "import numpy as np\n",
    "import pandas as pd\n",
    "import os\n",
    "from tqdm import tqdm\n",
    "import matplotlib.pyplot as plt\n",
    "import seaborn as sns\n",
    "import joblib"
   ]
  },
  {
   "cell_type": "code",
   "execution_count": 2,
   "id": "8b213513",
   "metadata": {
    "execution": {
     "iopub.execute_input": "2024-07-20T05:48:34.126870Z",
     "iopub.status.busy": "2024-07-20T05:48:34.126403Z",
     "iopub.status.idle": "2024-07-20T05:48:35.542414Z",
     "shell.execute_reply": "2024-07-20T05:48:35.540620Z"
    },
    "papermill": {
     "duration": 1.427067,
     "end_time": "2024-07-20T05:48:35.547094",
     "exception": false,
     "start_time": "2024-07-20T05:48:34.120027",
     "status": "completed"
    },
    "tags": []
   },
   "outputs": [
    {
     "name": "stdout",
     "output_type": "stream",
     "text": [
      "Downloading data from https://storage.googleapis.com/tensorflow/keras-applications/vgg16/vgg16_weights_tf_dim_ordering_tf_kernels_notop.h5\n",
      "\u001b[1m58889256/58889256\u001b[0m \u001b[32m━━━━━━━━━━━━━━━━━━━━\u001b[0m\u001b[37m\u001b[0m \u001b[1m0s\u001b[0m 0us/step\n"
     ]
    },
    {
     "data": {
      "text/html": [
       "<pre style=\"white-space:pre;overflow-x:auto;line-height:normal;font-family:Menlo,'DejaVu Sans Mono',consolas,'Courier New',monospace\"><span style=\"font-weight: bold\">Model: \"vgg16\"</span>\n",
       "</pre>\n"
      ],
      "text/plain": [
       "\u001b[1mModel: \"vgg16\"\u001b[0m\n"
      ]
     },
     "metadata": {},
     "output_type": "display_data"
    },
    {
     "data": {
      "text/html": [
       "<pre style=\"white-space:pre;overflow-x:auto;line-height:normal;font-family:Menlo,'DejaVu Sans Mono',consolas,'Courier New',monospace\">┏━━━━━━━━━━━━━━━━━━━━━━━━━━━━━━━━━┳━━━━━━━━━━━━━━━━━━━━━━━━┳━━━━━━━━━━━━━━━┓\n",
       "┃<span style=\"font-weight: bold\"> Layer (type)                    </span>┃<span style=\"font-weight: bold\"> Output Shape           </span>┃<span style=\"font-weight: bold\">       Param # </span>┃\n",
       "┡━━━━━━━━━━━━━━━━━━━━━━━━━━━━━━━━━╇━━━━━━━━━━━━━━━━━━━━━━━━╇━━━━━━━━━━━━━━━┩\n",
       "│ input_layer (<span style=\"color: #0087ff; text-decoration-color: #0087ff\">InputLayer</span>)        │ (<span style=\"color: #00d7ff; text-decoration-color: #00d7ff\">None</span>, <span style=\"color: #00d7ff; text-decoration-color: #00d7ff\">None</span>, <span style=\"color: #00d7ff; text-decoration-color: #00d7ff\">None</span>, <span style=\"color: #00af00; text-decoration-color: #00af00\">3</span>)  │             <span style=\"color: #00af00; text-decoration-color: #00af00\">0</span> │\n",
       "├─────────────────────────────────┼────────────────────────┼───────────────┤\n",
       "│ block1_conv1 (<span style=\"color: #0087ff; text-decoration-color: #0087ff\">Conv2D</span>)           │ (<span style=\"color: #00d7ff; text-decoration-color: #00d7ff\">None</span>, <span style=\"color: #00d7ff; text-decoration-color: #00d7ff\">None</span>, <span style=\"color: #00d7ff; text-decoration-color: #00d7ff\">None</span>, <span style=\"color: #00af00; text-decoration-color: #00af00\">64</span>) │         <span style=\"color: #00af00; text-decoration-color: #00af00\">1,792</span> │\n",
       "├─────────────────────────────────┼────────────────────────┼───────────────┤\n",
       "│ block1_conv2 (<span style=\"color: #0087ff; text-decoration-color: #0087ff\">Conv2D</span>)           │ (<span style=\"color: #00d7ff; text-decoration-color: #00d7ff\">None</span>, <span style=\"color: #00d7ff; text-decoration-color: #00d7ff\">None</span>, <span style=\"color: #00d7ff; text-decoration-color: #00d7ff\">None</span>, <span style=\"color: #00af00; text-decoration-color: #00af00\">64</span>) │        <span style=\"color: #00af00; text-decoration-color: #00af00\">36,928</span> │\n",
       "├─────────────────────────────────┼────────────────────────┼───────────────┤\n",
       "│ block1_pool (<span style=\"color: #0087ff; text-decoration-color: #0087ff\">MaxPooling2D</span>)      │ (<span style=\"color: #00d7ff; text-decoration-color: #00d7ff\">None</span>, <span style=\"color: #00d7ff; text-decoration-color: #00d7ff\">None</span>, <span style=\"color: #00d7ff; text-decoration-color: #00d7ff\">None</span>, <span style=\"color: #00af00; text-decoration-color: #00af00\">64</span>) │             <span style=\"color: #00af00; text-decoration-color: #00af00\">0</span> │\n",
       "├─────────────────────────────────┼────────────────────────┼───────────────┤\n",
       "│ block2_conv1 (<span style=\"color: #0087ff; text-decoration-color: #0087ff\">Conv2D</span>)           │ (<span style=\"color: #00d7ff; text-decoration-color: #00d7ff\">None</span>, <span style=\"color: #00d7ff; text-decoration-color: #00d7ff\">None</span>, <span style=\"color: #00d7ff; text-decoration-color: #00d7ff\">None</span>,     │        <span style=\"color: #00af00; text-decoration-color: #00af00\">73,856</span> │\n",
       "│                                 │ <span style=\"color: #00af00; text-decoration-color: #00af00\">128</span>)                   │               │\n",
       "├─────────────────────────────────┼────────────────────────┼───────────────┤\n",
       "│ block2_conv2 (<span style=\"color: #0087ff; text-decoration-color: #0087ff\">Conv2D</span>)           │ (<span style=\"color: #00d7ff; text-decoration-color: #00d7ff\">None</span>, <span style=\"color: #00d7ff; text-decoration-color: #00d7ff\">None</span>, <span style=\"color: #00d7ff; text-decoration-color: #00d7ff\">None</span>,     │       <span style=\"color: #00af00; text-decoration-color: #00af00\">147,584</span> │\n",
       "│                                 │ <span style=\"color: #00af00; text-decoration-color: #00af00\">128</span>)                   │               │\n",
       "├─────────────────────────────────┼────────────────────────┼───────────────┤\n",
       "│ block2_pool (<span style=\"color: #0087ff; text-decoration-color: #0087ff\">MaxPooling2D</span>)      │ (<span style=\"color: #00d7ff; text-decoration-color: #00d7ff\">None</span>, <span style=\"color: #00d7ff; text-decoration-color: #00d7ff\">None</span>, <span style=\"color: #00d7ff; text-decoration-color: #00d7ff\">None</span>,     │             <span style=\"color: #00af00; text-decoration-color: #00af00\">0</span> │\n",
       "│                                 │ <span style=\"color: #00af00; text-decoration-color: #00af00\">128</span>)                   │               │\n",
       "├─────────────────────────────────┼────────────────────────┼───────────────┤\n",
       "│ block3_conv1 (<span style=\"color: #0087ff; text-decoration-color: #0087ff\">Conv2D</span>)           │ (<span style=\"color: #00d7ff; text-decoration-color: #00d7ff\">None</span>, <span style=\"color: #00d7ff; text-decoration-color: #00d7ff\">None</span>, <span style=\"color: #00d7ff; text-decoration-color: #00d7ff\">None</span>,     │       <span style=\"color: #00af00; text-decoration-color: #00af00\">295,168</span> │\n",
       "│                                 │ <span style=\"color: #00af00; text-decoration-color: #00af00\">256</span>)                   │               │\n",
       "├─────────────────────────────────┼────────────────────────┼───────────────┤\n",
       "│ block3_conv2 (<span style=\"color: #0087ff; text-decoration-color: #0087ff\">Conv2D</span>)           │ (<span style=\"color: #00d7ff; text-decoration-color: #00d7ff\">None</span>, <span style=\"color: #00d7ff; text-decoration-color: #00d7ff\">None</span>, <span style=\"color: #00d7ff; text-decoration-color: #00d7ff\">None</span>,     │       <span style=\"color: #00af00; text-decoration-color: #00af00\">590,080</span> │\n",
       "│                                 │ <span style=\"color: #00af00; text-decoration-color: #00af00\">256</span>)                   │               │\n",
       "├─────────────────────────────────┼────────────────────────┼───────────────┤\n",
       "│ block3_conv3 (<span style=\"color: #0087ff; text-decoration-color: #0087ff\">Conv2D</span>)           │ (<span style=\"color: #00d7ff; text-decoration-color: #00d7ff\">None</span>, <span style=\"color: #00d7ff; text-decoration-color: #00d7ff\">None</span>, <span style=\"color: #00d7ff; text-decoration-color: #00d7ff\">None</span>,     │       <span style=\"color: #00af00; text-decoration-color: #00af00\">590,080</span> │\n",
       "│                                 │ <span style=\"color: #00af00; text-decoration-color: #00af00\">256</span>)                   │               │\n",
       "├─────────────────────────────────┼────────────────────────┼───────────────┤\n",
       "│ block3_pool (<span style=\"color: #0087ff; text-decoration-color: #0087ff\">MaxPooling2D</span>)      │ (<span style=\"color: #00d7ff; text-decoration-color: #00d7ff\">None</span>, <span style=\"color: #00d7ff; text-decoration-color: #00d7ff\">None</span>, <span style=\"color: #00d7ff; text-decoration-color: #00d7ff\">None</span>,     │             <span style=\"color: #00af00; text-decoration-color: #00af00\">0</span> │\n",
       "│                                 │ <span style=\"color: #00af00; text-decoration-color: #00af00\">256</span>)                   │               │\n",
       "├─────────────────────────────────┼────────────────────────┼───────────────┤\n",
       "│ block4_conv1 (<span style=\"color: #0087ff; text-decoration-color: #0087ff\">Conv2D</span>)           │ (<span style=\"color: #00d7ff; text-decoration-color: #00d7ff\">None</span>, <span style=\"color: #00d7ff; text-decoration-color: #00d7ff\">None</span>, <span style=\"color: #00d7ff; text-decoration-color: #00d7ff\">None</span>,     │     <span style=\"color: #00af00; text-decoration-color: #00af00\">1,180,160</span> │\n",
       "│                                 │ <span style=\"color: #00af00; text-decoration-color: #00af00\">512</span>)                   │               │\n",
       "├─────────────────────────────────┼────────────────────────┼───────────────┤\n",
       "│ block4_conv2 (<span style=\"color: #0087ff; text-decoration-color: #0087ff\">Conv2D</span>)           │ (<span style=\"color: #00d7ff; text-decoration-color: #00d7ff\">None</span>, <span style=\"color: #00d7ff; text-decoration-color: #00d7ff\">None</span>, <span style=\"color: #00d7ff; text-decoration-color: #00d7ff\">None</span>,     │     <span style=\"color: #00af00; text-decoration-color: #00af00\">2,359,808</span> │\n",
       "│                                 │ <span style=\"color: #00af00; text-decoration-color: #00af00\">512</span>)                   │               │\n",
       "├─────────────────────────────────┼────────────────────────┼───────────────┤\n",
       "│ block4_conv3 (<span style=\"color: #0087ff; text-decoration-color: #0087ff\">Conv2D</span>)           │ (<span style=\"color: #00d7ff; text-decoration-color: #00d7ff\">None</span>, <span style=\"color: #00d7ff; text-decoration-color: #00d7ff\">None</span>, <span style=\"color: #00d7ff; text-decoration-color: #00d7ff\">None</span>,     │     <span style=\"color: #00af00; text-decoration-color: #00af00\">2,359,808</span> │\n",
       "│                                 │ <span style=\"color: #00af00; text-decoration-color: #00af00\">512</span>)                   │               │\n",
       "├─────────────────────────────────┼────────────────────────┼───────────────┤\n",
       "│ block4_pool (<span style=\"color: #0087ff; text-decoration-color: #0087ff\">MaxPooling2D</span>)      │ (<span style=\"color: #00d7ff; text-decoration-color: #00d7ff\">None</span>, <span style=\"color: #00d7ff; text-decoration-color: #00d7ff\">None</span>, <span style=\"color: #00d7ff; text-decoration-color: #00d7ff\">None</span>,     │             <span style=\"color: #00af00; text-decoration-color: #00af00\">0</span> │\n",
       "│                                 │ <span style=\"color: #00af00; text-decoration-color: #00af00\">512</span>)                   │               │\n",
       "├─────────────────────────────────┼────────────────────────┼───────────────┤\n",
       "│ block5_conv1 (<span style=\"color: #0087ff; text-decoration-color: #0087ff\">Conv2D</span>)           │ (<span style=\"color: #00d7ff; text-decoration-color: #00d7ff\">None</span>, <span style=\"color: #00d7ff; text-decoration-color: #00d7ff\">None</span>, <span style=\"color: #00d7ff; text-decoration-color: #00d7ff\">None</span>,     │     <span style=\"color: #00af00; text-decoration-color: #00af00\">2,359,808</span> │\n",
       "│                                 │ <span style=\"color: #00af00; text-decoration-color: #00af00\">512</span>)                   │               │\n",
       "├─────────────────────────────────┼────────────────────────┼───────────────┤\n",
       "│ block5_conv2 (<span style=\"color: #0087ff; text-decoration-color: #0087ff\">Conv2D</span>)           │ (<span style=\"color: #00d7ff; text-decoration-color: #00d7ff\">None</span>, <span style=\"color: #00d7ff; text-decoration-color: #00d7ff\">None</span>, <span style=\"color: #00d7ff; text-decoration-color: #00d7ff\">None</span>,     │     <span style=\"color: #00af00; text-decoration-color: #00af00\">2,359,808</span> │\n",
       "│                                 │ <span style=\"color: #00af00; text-decoration-color: #00af00\">512</span>)                   │               │\n",
       "├─────────────────────────────────┼────────────────────────┼───────────────┤\n",
       "│ block5_conv3 (<span style=\"color: #0087ff; text-decoration-color: #0087ff\">Conv2D</span>)           │ (<span style=\"color: #00d7ff; text-decoration-color: #00d7ff\">None</span>, <span style=\"color: #00d7ff; text-decoration-color: #00d7ff\">None</span>, <span style=\"color: #00d7ff; text-decoration-color: #00d7ff\">None</span>,     │     <span style=\"color: #00af00; text-decoration-color: #00af00\">2,359,808</span> │\n",
       "│                                 │ <span style=\"color: #00af00; text-decoration-color: #00af00\">512</span>)                   │               │\n",
       "├─────────────────────────────────┼────────────────────────┼───────────────┤\n",
       "│ block5_pool (<span style=\"color: #0087ff; text-decoration-color: #0087ff\">MaxPooling2D</span>)      │ (<span style=\"color: #00d7ff; text-decoration-color: #00d7ff\">None</span>, <span style=\"color: #00d7ff; text-decoration-color: #00d7ff\">None</span>, <span style=\"color: #00d7ff; text-decoration-color: #00d7ff\">None</span>,     │             <span style=\"color: #00af00; text-decoration-color: #00af00\">0</span> │\n",
       "│                                 │ <span style=\"color: #00af00; text-decoration-color: #00af00\">512</span>)                   │               │\n",
       "├─────────────────────────────────┼────────────────────────┼───────────────┤\n",
       "│ global_max_pooling2d            │ (<span style=\"color: #00d7ff; text-decoration-color: #00d7ff\">None</span>, <span style=\"color: #00af00; text-decoration-color: #00af00\">512</span>)            │             <span style=\"color: #00af00; text-decoration-color: #00af00\">0</span> │\n",
       "│ (<span style=\"color: #0087ff; text-decoration-color: #0087ff\">GlobalMaxPooling2D</span>)            │                        │               │\n",
       "└─────────────────────────────────┴────────────────────────┴───────────────┘\n",
       "</pre>\n"
      ],
      "text/plain": [
       "┏━━━━━━━━━━━━━━━━━━━━━━━━━━━━━━━━━┳━━━━━━━━━━━━━━━━━━━━━━━━┳━━━━━━━━━━━━━━━┓\n",
       "┃\u001b[1m \u001b[0m\u001b[1mLayer (type)                   \u001b[0m\u001b[1m \u001b[0m┃\u001b[1m \u001b[0m\u001b[1mOutput Shape          \u001b[0m\u001b[1m \u001b[0m┃\u001b[1m \u001b[0m\u001b[1m      Param #\u001b[0m\u001b[1m \u001b[0m┃\n",
       "┡━━━━━━━━━━━━━━━━━━━━━━━━━━━━━━━━━╇━━━━━━━━━━━━━━━━━━━━━━━━╇━━━━━━━━━━━━━━━┩\n",
       "│ input_layer (\u001b[38;5;33mInputLayer\u001b[0m)        │ (\u001b[38;5;45mNone\u001b[0m, \u001b[38;5;45mNone\u001b[0m, \u001b[38;5;45mNone\u001b[0m, \u001b[38;5;34m3\u001b[0m)  │             \u001b[38;5;34m0\u001b[0m │\n",
       "├─────────────────────────────────┼────────────────────────┼───────────────┤\n",
       "│ block1_conv1 (\u001b[38;5;33mConv2D\u001b[0m)           │ (\u001b[38;5;45mNone\u001b[0m, \u001b[38;5;45mNone\u001b[0m, \u001b[38;5;45mNone\u001b[0m, \u001b[38;5;34m64\u001b[0m) │         \u001b[38;5;34m1,792\u001b[0m │\n",
       "├─────────────────────────────────┼────────────────────────┼───────────────┤\n",
       "│ block1_conv2 (\u001b[38;5;33mConv2D\u001b[0m)           │ (\u001b[38;5;45mNone\u001b[0m, \u001b[38;5;45mNone\u001b[0m, \u001b[38;5;45mNone\u001b[0m, \u001b[38;5;34m64\u001b[0m) │        \u001b[38;5;34m36,928\u001b[0m │\n",
       "├─────────────────────────────────┼────────────────────────┼───────────────┤\n",
       "│ block1_pool (\u001b[38;5;33mMaxPooling2D\u001b[0m)      │ (\u001b[38;5;45mNone\u001b[0m, \u001b[38;5;45mNone\u001b[0m, \u001b[38;5;45mNone\u001b[0m, \u001b[38;5;34m64\u001b[0m) │             \u001b[38;5;34m0\u001b[0m │\n",
       "├─────────────────────────────────┼────────────────────────┼───────────────┤\n",
       "│ block2_conv1 (\u001b[38;5;33mConv2D\u001b[0m)           │ (\u001b[38;5;45mNone\u001b[0m, \u001b[38;5;45mNone\u001b[0m, \u001b[38;5;45mNone\u001b[0m,     │        \u001b[38;5;34m73,856\u001b[0m │\n",
       "│                                 │ \u001b[38;5;34m128\u001b[0m)                   │               │\n",
       "├─────────────────────────────────┼────────────────────────┼───────────────┤\n",
       "│ block2_conv2 (\u001b[38;5;33mConv2D\u001b[0m)           │ (\u001b[38;5;45mNone\u001b[0m, \u001b[38;5;45mNone\u001b[0m, \u001b[38;5;45mNone\u001b[0m,     │       \u001b[38;5;34m147,584\u001b[0m │\n",
       "│                                 │ \u001b[38;5;34m128\u001b[0m)                   │               │\n",
       "├─────────────────────────────────┼────────────────────────┼───────────────┤\n",
       "│ block2_pool (\u001b[38;5;33mMaxPooling2D\u001b[0m)      │ (\u001b[38;5;45mNone\u001b[0m, \u001b[38;5;45mNone\u001b[0m, \u001b[38;5;45mNone\u001b[0m,     │             \u001b[38;5;34m0\u001b[0m │\n",
       "│                                 │ \u001b[38;5;34m128\u001b[0m)                   │               │\n",
       "├─────────────────────────────────┼────────────────────────┼───────────────┤\n",
       "│ block3_conv1 (\u001b[38;5;33mConv2D\u001b[0m)           │ (\u001b[38;5;45mNone\u001b[0m, \u001b[38;5;45mNone\u001b[0m, \u001b[38;5;45mNone\u001b[0m,     │       \u001b[38;5;34m295,168\u001b[0m │\n",
       "│                                 │ \u001b[38;5;34m256\u001b[0m)                   │               │\n",
       "├─────────────────────────────────┼────────────────────────┼───────────────┤\n",
       "│ block3_conv2 (\u001b[38;5;33mConv2D\u001b[0m)           │ (\u001b[38;5;45mNone\u001b[0m, \u001b[38;5;45mNone\u001b[0m, \u001b[38;5;45mNone\u001b[0m,     │       \u001b[38;5;34m590,080\u001b[0m │\n",
       "│                                 │ \u001b[38;5;34m256\u001b[0m)                   │               │\n",
       "├─────────────────────────────────┼────────────────────────┼───────────────┤\n",
       "│ block3_conv3 (\u001b[38;5;33mConv2D\u001b[0m)           │ (\u001b[38;5;45mNone\u001b[0m, \u001b[38;5;45mNone\u001b[0m, \u001b[38;5;45mNone\u001b[0m,     │       \u001b[38;5;34m590,080\u001b[0m │\n",
       "│                                 │ \u001b[38;5;34m256\u001b[0m)                   │               │\n",
       "├─────────────────────────────────┼────────────────────────┼───────────────┤\n",
       "│ block3_pool (\u001b[38;5;33mMaxPooling2D\u001b[0m)      │ (\u001b[38;5;45mNone\u001b[0m, \u001b[38;5;45mNone\u001b[0m, \u001b[38;5;45mNone\u001b[0m,     │             \u001b[38;5;34m0\u001b[0m │\n",
       "│                                 │ \u001b[38;5;34m256\u001b[0m)                   │               │\n",
       "├─────────────────────────────────┼────────────────────────┼───────────────┤\n",
       "│ block4_conv1 (\u001b[38;5;33mConv2D\u001b[0m)           │ (\u001b[38;5;45mNone\u001b[0m, \u001b[38;5;45mNone\u001b[0m, \u001b[38;5;45mNone\u001b[0m,     │     \u001b[38;5;34m1,180,160\u001b[0m │\n",
       "│                                 │ \u001b[38;5;34m512\u001b[0m)                   │               │\n",
       "├─────────────────────────────────┼────────────────────────┼───────────────┤\n",
       "│ block4_conv2 (\u001b[38;5;33mConv2D\u001b[0m)           │ (\u001b[38;5;45mNone\u001b[0m, \u001b[38;5;45mNone\u001b[0m, \u001b[38;5;45mNone\u001b[0m,     │     \u001b[38;5;34m2,359,808\u001b[0m │\n",
       "│                                 │ \u001b[38;5;34m512\u001b[0m)                   │               │\n",
       "├─────────────────────────────────┼────────────────────────┼───────────────┤\n",
       "│ block4_conv3 (\u001b[38;5;33mConv2D\u001b[0m)           │ (\u001b[38;5;45mNone\u001b[0m, \u001b[38;5;45mNone\u001b[0m, \u001b[38;5;45mNone\u001b[0m,     │     \u001b[38;5;34m2,359,808\u001b[0m │\n",
       "│                                 │ \u001b[38;5;34m512\u001b[0m)                   │               │\n",
       "├─────────────────────────────────┼────────────────────────┼───────────────┤\n",
       "│ block4_pool (\u001b[38;5;33mMaxPooling2D\u001b[0m)      │ (\u001b[38;5;45mNone\u001b[0m, \u001b[38;5;45mNone\u001b[0m, \u001b[38;5;45mNone\u001b[0m,     │             \u001b[38;5;34m0\u001b[0m │\n",
       "│                                 │ \u001b[38;5;34m512\u001b[0m)                   │               │\n",
       "├─────────────────────────────────┼────────────────────────┼───────────────┤\n",
       "│ block5_conv1 (\u001b[38;5;33mConv2D\u001b[0m)           │ (\u001b[38;5;45mNone\u001b[0m, \u001b[38;5;45mNone\u001b[0m, \u001b[38;5;45mNone\u001b[0m,     │     \u001b[38;5;34m2,359,808\u001b[0m │\n",
       "│                                 │ \u001b[38;5;34m512\u001b[0m)                   │               │\n",
       "├─────────────────────────────────┼────────────────────────┼───────────────┤\n",
       "│ block5_conv2 (\u001b[38;5;33mConv2D\u001b[0m)           │ (\u001b[38;5;45mNone\u001b[0m, \u001b[38;5;45mNone\u001b[0m, \u001b[38;5;45mNone\u001b[0m,     │     \u001b[38;5;34m2,359,808\u001b[0m │\n",
       "│                                 │ \u001b[38;5;34m512\u001b[0m)                   │               │\n",
       "├─────────────────────────────────┼────────────────────────┼───────────────┤\n",
       "│ block5_conv3 (\u001b[38;5;33mConv2D\u001b[0m)           │ (\u001b[38;5;45mNone\u001b[0m, \u001b[38;5;45mNone\u001b[0m, \u001b[38;5;45mNone\u001b[0m,     │     \u001b[38;5;34m2,359,808\u001b[0m │\n",
       "│                                 │ \u001b[38;5;34m512\u001b[0m)                   │               │\n",
       "├─────────────────────────────────┼────────────────────────┼───────────────┤\n",
       "│ block5_pool (\u001b[38;5;33mMaxPooling2D\u001b[0m)      │ (\u001b[38;5;45mNone\u001b[0m, \u001b[38;5;45mNone\u001b[0m, \u001b[38;5;45mNone\u001b[0m,     │             \u001b[38;5;34m0\u001b[0m │\n",
       "│                                 │ \u001b[38;5;34m512\u001b[0m)                   │               │\n",
       "├─────────────────────────────────┼────────────────────────┼───────────────┤\n",
       "│ global_max_pooling2d            │ (\u001b[38;5;45mNone\u001b[0m, \u001b[38;5;34m512\u001b[0m)            │             \u001b[38;5;34m0\u001b[0m │\n",
       "│ (\u001b[38;5;33mGlobalMaxPooling2D\u001b[0m)            │                        │               │\n",
       "└─────────────────────────────────┴────────────────────────┴───────────────┘\n"
      ]
     },
     "metadata": {},
     "output_type": "display_data"
    },
    {
     "data": {
      "text/html": [
       "<pre style=\"white-space:pre;overflow-x:auto;line-height:normal;font-family:Menlo,'DejaVu Sans Mono',consolas,'Courier New',monospace\"><span style=\"font-weight: bold\"> Total params: </span><span style=\"color: #00af00; text-decoration-color: #00af00\">14,714,688</span> (56.13 MB)\n",
       "</pre>\n"
      ],
      "text/plain": [
       "\u001b[1m Total params: \u001b[0m\u001b[38;5;34m14,714,688\u001b[0m (56.13 MB)\n"
      ]
     },
     "metadata": {},
     "output_type": "display_data"
    },
    {
     "data": {
      "text/html": [
       "<pre style=\"white-space:pre;overflow-x:auto;line-height:normal;font-family:Menlo,'DejaVu Sans Mono',consolas,'Courier New',monospace\"><span style=\"font-weight: bold\"> Trainable params: </span><span style=\"color: #00af00; text-decoration-color: #00af00\">14,714,688</span> (56.13 MB)\n",
       "</pre>\n"
      ],
      "text/plain": [
       "\u001b[1m Trainable params: \u001b[0m\u001b[38;5;34m14,714,688\u001b[0m (56.13 MB)\n"
      ]
     },
     "metadata": {},
     "output_type": "display_data"
    },
    {
     "data": {
      "text/html": [
       "<pre style=\"white-space:pre;overflow-x:auto;line-height:normal;font-family:Menlo,'DejaVu Sans Mono',consolas,'Courier New',monospace\"><span style=\"font-weight: bold\"> Non-trainable params: </span><span style=\"color: #00af00; text-decoration-color: #00af00\">0</span> (0.00 B)\n",
       "</pre>\n"
      ],
      "text/plain": [
       "\u001b[1m Non-trainable params: \u001b[0m\u001b[38;5;34m0\u001b[0m (0.00 B)\n"
      ]
     },
     "metadata": {},
     "output_type": "display_data"
    }
   ],
   "source": [
    "feature_extraction_model = VGG16(weights='imagenet', include_top=False, pooling='max')\n",
    "feature_extraction_model.summary()\n",
    "\n",
    "for layer in feature_extraction_model.layers:\n",
    "    layer.trainable = False"
   ]
  },
  {
   "cell_type": "code",
   "execution_count": 3,
   "id": "a0e9d671",
   "metadata": {
    "_kg_hide-input": false,
    "execution": {
     "iopub.execute_input": "2024-07-20T05:48:35.569630Z",
     "iopub.status.busy": "2024-07-20T05:48:35.569274Z",
     "iopub.status.idle": "2024-07-20T05:48:35.577338Z",
     "shell.execute_reply": "2024-07-20T05:48:35.576223Z"
    },
    "papermill": {
     "duration": 0.025306,
     "end_time": "2024-07-20T05:48:35.582267",
     "exception": false,
     "start_time": "2024-07-20T05:48:35.556961",
     "status": "completed"
    },
    "tags": []
   },
   "outputs": [
    {
     "data": {
      "text/plain": [
       "'# Function to extract features from images\\ndef extract_features(img_paths, batch_size=32):\\n    features = []\\n    total_images = len(img_paths)\\n    for i in tqdm(range(0, total_images, batch_size), desc=\"Extracting Features\"):\\n        batch_paths = img_paths[i:i + batch_size]\\n        batch_images = [image.img_to_array(image.load_img(p, target_size=(224, 224))) for p in batch_paths]\\n        batch_images = np.array(batch_images)\\n        batch_images = preprocess_input(batch_images)\\n        batch_features = model_test.predict(batch_images)\\n        features.extend(batch_features)\\n    return np.array(features)'"
      ]
     },
     "execution_count": 3,
     "metadata": {},
     "output_type": "execute_result"
    }
   ],
   "source": [
    "\"\"\"# Function to extract features from images\n",
    "def extract_features(img_paths, batch_size=32):\n",
    "    features = []\n",
    "    total_images = len(img_paths)\n",
    "    for i in tqdm(range(0, total_images, batch_size), desc=\"Extracting Features\"):\n",
    "        batch_paths = img_paths[i:i + batch_size]\n",
    "        batch_images = [image.img_to_array(image.load_img(p, target_size=(224, 224))) for p in batch_paths]\n",
    "        batch_images = np.array(batch_images)\n",
    "        batch_images = preprocess_input(batch_images)\n",
    "        batch_features = model_test.predict(batch_images)\n",
    "        features.extend(batch_features)\n",
    "    return np.array(features)\"\"\""
   ]
  },
  {
   "cell_type": "code",
   "execution_count": 4,
   "id": "85e0765c",
   "metadata": {
    "execution": {
     "iopub.execute_input": "2024-07-20T05:48:35.605737Z",
     "iopub.status.busy": "2024-07-20T05:48:35.604546Z",
     "iopub.status.idle": "2024-07-20T05:48:35.614131Z",
     "shell.execute_reply": "2024-07-20T05:48:35.613438Z"
    },
    "papermill": {
     "duration": 0.023703,
     "end_time": "2024-07-20T05:48:35.616053",
     "exception": false,
     "start_time": "2024-07-20T05:48:35.592350",
     "status": "completed"
    },
    "tags": []
   },
   "outputs": [],
   "source": [
    "# Function to extract features from a list of image paths\n",
    "def extract_features_from_paths(image_paths, model):\n",
    "    features = []\n",
    "    for img_path in image_paths:\n",
    "        img = image.load_img(img_path, target_size=(224, 224))\n",
    "        img_array = image.img_to_array(img)\n",
    "        img_array = np.expand_dims(img_array, axis=0)\n",
    "        img_array = preprocess_input(img_array)\n",
    "        feature = model.predict(img_array)\n",
    "        features.append(feature.flatten())\n",
    "    return np.array(features)\n",
    "\n",
    "# Function to extract features from a single image\n",
    "def extract_features_from_image(image_path, model):\n",
    "    img = image.load_img(image_path, target_size=(224, 224))\n",
    "    img_array = image.img_to_array(img)\n",
    "    img_array = np.expand_dims(img_array, axis=0)\n",
    "    img_array = preprocess_input(img_array)\n",
    "    feature = model.predict(img_array)\n",
    "    return feature.flatten()\n",
    "\n",
    "\n",
    "# Function to print class information\n",
    "def print_class_info(path):\n",
    "    classes = os.listdir(path)\n",
    "    print(\"Found classes:\")\n",
    "    for class_name in classes:\n",
    "        class_path = os.path.join(path, class_name)\n",
    "        num_images = len(os.listdir(class_path))\n",
    "        print(f\"  - {class_name}: {num_images} images\")"
   ]
  },
  {
   "cell_type": "code",
   "execution_count": 5,
   "id": "9a453b0f",
   "metadata": {
    "execution": {
     "iopub.execute_input": "2024-07-20T05:48:35.632099Z",
     "iopub.status.busy": "2024-07-20T05:48:35.631862Z",
     "iopub.status.idle": "2024-07-20T05:48:35.639449Z",
     "shell.execute_reply": "2024-07-20T05:48:35.638587Z"
    },
    "papermill": {
     "duration": 0.017857,
     "end_time": "2024-07-20T05:48:35.641425",
     "exception": false,
     "start_time": "2024-07-20T05:48:35.623568",
     "status": "completed"
    },
    "tags": []
   },
   "outputs": [
    {
     "data": {
      "text/plain": [
       "\"import os\\nfrom tqdm import tqdm\\nimport numpy as np\\nfrom tensorflow.keras.preprocessing import image\\nfrom tensorflow.keras.applications.vgg16 import preprocess_input\\n\\n# Paths to your datasets\\ntrain_path = '/kaggle/input/balanced-training-data/new_balanced_dataset/train'\\nval_path = '/kaggle/input/balanced-training-data/new_balanced_dataset/val'\\ntest_path = '/kaggle/input/balanced-training-data/new_balanced_dataset/test'\\n\\n# Print class information for training set\\nprint_class_info(train_path)\\n\\n# Print class information for validation set\\nprint_class_info(val_path)\\n\\n# Print class information for test set\\nprint_class_info(test_path)\\n\\n# Extract features for training set\\ntrain_img_paths = []\\ntrain_labels = []\\n\\nfor class_name in os.listdir(train_path):\\n    class_path = os.path.join(train_path, class_name)\\n    for img_file in os.listdir(class_path):\\n        train_img_paths.append(os.path.join(class_path, img_file))\\n        train_labels.append(class_name)\\n\\ntrain_features = extract_features_from_paths(train_img_paths, feature_extraction_model)\\n\\n# Extract features for validation set\\nval_img_paths = []\\nval_labels = []\\n\\nfor class_name in os.listdir(val_path):\\n    class_path = os.path.join(val_path, class_name)\\n    for img_file in os.listdir(class_path):\\n        val_img_paths.append(os.path.join(class_path, img_file))\\n        val_labels.append(class_name)\\n\\nval_features = extract_features_from_paths(val_img_paths, feature_extraction_model)\\n\\n# Extract features for test set\\ntest_img_paths = []\\ntest_labels = []\\n\\nfor class_name in os.listdir(test_path):\\n    class_path = os.path.join(test_path, class_name)\\n    for img_file in os.listdir(class_path):\\n        test_img_paths.append(os.path.join(class_path, img_file))\\n        test_labels.append(class_name)\\n\\ntest_features = extract_features_from_paths(test_img_paths, feature_extraction_model)\\n\\n# Optional: Convert labels to integers if needed\\nclass_names = sorted(set(train_labels))  # Ensure consistent ordering of class names\\nclass_to_idx = {class_name: idx for idx, class_name in enumerate(class_names)}\\n\\ntrain_labels = [class_to_idx[label] for label in train_labels]\\nval_labels = [class_to_idx[label] for label in val_labels]\\ntest_labels = [class_to_idx[label] for label in test_labels]\\n\\n\""
      ]
     },
     "execution_count": 5,
     "metadata": {},
     "output_type": "execute_result"
    }
   ],
   "source": [
    "\"\"\"import os\n",
    "from tqdm import tqdm\n",
    "import numpy as np\n",
    "from tensorflow.keras.preprocessing import image\n",
    "from tensorflow.keras.applications.vgg16 import preprocess_input\n",
    "\n",
    "# Paths to your datasets\n",
    "train_path = '/kaggle/input/balanced-training-data/new_balanced_dataset/train'\n",
    "val_path = '/kaggle/input/balanced-training-data/new_balanced_dataset/val'\n",
    "test_path = '/kaggle/input/balanced-training-data/new_balanced_dataset/test'\n",
    "\n",
    "# Print class information for training set\n",
    "print_class_info(train_path)\n",
    "\n",
    "# Print class information for validation set\n",
    "print_class_info(val_path)\n",
    "\n",
    "# Print class information for test set\n",
    "print_class_info(test_path)\n",
    "\n",
    "# Extract features for training set\n",
    "train_img_paths = []\n",
    "train_labels = []\n",
    "\n",
    "for class_name in os.listdir(train_path):\n",
    "    class_path = os.path.join(train_path, class_name)\n",
    "    for img_file in os.listdir(class_path):\n",
    "        train_img_paths.append(os.path.join(class_path, img_file))\n",
    "        train_labels.append(class_name)\n",
    "\n",
    "train_features = extract_features_from_paths(train_img_paths, feature_extraction_model)\n",
    "\n",
    "# Extract features for validation set\n",
    "val_img_paths = []\n",
    "val_labels = []\n",
    "\n",
    "for class_name in os.listdir(val_path):\n",
    "    class_path = os.path.join(val_path, class_name)\n",
    "    for img_file in os.listdir(class_path):\n",
    "        val_img_paths.append(os.path.join(class_path, img_file))\n",
    "        val_labels.append(class_name)\n",
    "\n",
    "val_features = extract_features_from_paths(val_img_paths, feature_extraction_model)\n",
    "\n",
    "# Extract features for test set\n",
    "test_img_paths = []\n",
    "test_labels = []\n",
    "\n",
    "for class_name in os.listdir(test_path):\n",
    "    class_path = os.path.join(test_path, class_name)\n",
    "    for img_file in os.listdir(class_path):\n",
    "        test_img_paths.append(os.path.join(class_path, img_file))\n",
    "        test_labels.append(class_name)\n",
    "\n",
    "test_features = extract_features_from_paths(test_img_paths, feature_extraction_model)\n",
    "\n",
    "# Optional: Convert labels to integers if needed\n",
    "class_names = sorted(set(train_labels))  # Ensure consistent ordering of class names\n",
    "class_to_idx = {class_name: idx for idx, class_name in enumerate(class_names)}\n",
    "\n",
    "train_labels = [class_to_idx[label] for label in train_labels]\n",
    "val_labels = [class_to_idx[label] for label in val_labels]\n",
    "test_labels = [class_to_idx[label] for label in test_labels]\n",
    "\n",
    "\"\"\""
   ]
  },
  {
   "cell_type": "code",
   "execution_count": 6,
   "id": "e4a30a3c",
   "metadata": {
    "execution": {
     "iopub.execute_input": "2024-07-20T05:48:35.657716Z",
     "iopub.status.busy": "2024-07-20T05:48:35.657476Z",
     "iopub.status.idle": "2024-07-20T05:48:35.663112Z",
     "shell.execute_reply": "2024-07-20T05:48:35.662299Z"
    },
    "papermill": {
     "duration": 0.015915,
     "end_time": "2024-07-20T05:48:35.665050",
     "exception": false,
     "start_time": "2024-07-20T05:48:35.649135",
     "status": "completed"
    },
    "tags": []
   },
   "outputs": [
    {
     "data": {
      "text/plain": [
       "\"import numpy as np\\n\\n# Save train features to a .npy file\\nnp.save('/kaggle/working/train_features.npy', train_features)\\n\\n# Save train labels to a .npy file\\nnp.save('/kaggle/working/train_labels.npy', train_labels)\\n\\n# Save val features to a .npy file\\nnp.save('/kaggle/working/val_features.npy', val_features)\\n\\n# Save val labels to a .npy file\\nnp.save('/kaggle/working/val_labels.npy', val_labels)\\n\\n# Save test features to a .npy file\\nnp.save('/kaggle/working/test_features.npy', test_features)\\n\\n# Save test labels to a .npy file\\nnp.save('/kaggle/working/test_labels.npy', test_labels)\""
      ]
     },
     "execution_count": 6,
     "metadata": {},
     "output_type": "execute_result"
    }
   ],
   "source": [
    "\"\"\"import numpy as np\n",
    "\n",
    "# Save train features to a .npy file\n",
    "np.save('/kaggle/working/train_features.npy', train_features)\n",
    "\n",
    "# Save train labels to a .npy file\n",
    "np.save('/kaggle/working/train_labels.npy', train_labels)\n",
    "\n",
    "# Save val features to a .npy file\n",
    "np.save('/kaggle/working/val_features.npy', val_features)\n",
    "\n",
    "# Save val labels to a .npy file\n",
    "np.save('/kaggle/working/val_labels.npy', val_labels)\n",
    "\n",
    "# Save test features to a .npy file\n",
    "np.save('/kaggle/working/test_features.npy', test_features)\n",
    "\n",
    "# Save test labels to a .npy file\n",
    "np.save('/kaggle/working/test_labels.npy', test_labels)\"\"\""
   ]
  },
  {
   "cell_type": "code",
   "execution_count": 7,
   "id": "d374914b",
   "metadata": {
    "execution": {
     "iopub.execute_input": "2024-07-20T05:48:35.681510Z",
     "iopub.status.busy": "2024-07-20T05:48:35.681234Z",
     "iopub.status.idle": "2024-07-20T05:48:35.686612Z",
     "shell.execute_reply": "2024-07-20T05:48:35.685824Z"
    },
    "papermill": {
     "duration": 0.015719,
     "end_time": "2024-07-20T05:48:35.688471",
     "exception": false,
     "start_time": "2024-07-20T05:48:35.672752",
     "status": "completed"
    },
    "tags": []
   },
   "outputs": [
    {
     "data": {
      "text/plain": [
       "'assert len(train_features) == len(train_labels)\\nassert len(val_features) == len(val_labels)\\nassert len(test_features) == len(test_labels)\\nfrom collections import Counter\\n\\ntrain_label_counts = Counter(train_labels)\\nval_label_counts = Counter(val_labels)\\ntest_label_counts = Counter(test_labels)\\n\\nprint(\"Training set label distribution:\")\\nprint(train_label_counts)\\n\\nprint(\"Validation set label distribution:\")\\nprint(val_label_counts)\\n\\nprint(\"Test set label distribution:\")\\nprint(test_label_counts)\\n'"
      ]
     },
     "execution_count": 7,
     "metadata": {},
     "output_type": "execute_result"
    }
   ],
   "source": [
    "\"\"\"assert len(train_features) == len(train_labels)\n",
    "assert len(val_features) == len(val_labels)\n",
    "assert len(test_features) == len(test_labels)\n",
    "from collections import Counter\n",
    "\n",
    "train_label_counts = Counter(train_labels)\n",
    "val_label_counts = Counter(val_labels)\n",
    "test_label_counts = Counter(test_labels)\n",
    "\n",
    "print(\"Training set label distribution:\")\n",
    "print(train_label_counts)\n",
    "\n",
    "print(\"Validation set label distribution:\")\n",
    "print(val_label_counts)\n",
    "\n",
    "print(\"Test set label distribution:\")\n",
    "print(test_label_counts)\n",
    "\"\"\""
   ]
  },
  {
   "cell_type": "code",
   "execution_count": 8,
   "id": "276b8186",
   "metadata": {
    "execution": {
     "iopub.execute_input": "2024-07-20T05:48:35.705272Z",
     "iopub.status.busy": "2024-07-20T05:48:35.705019Z",
     "iopub.status.idle": "2024-07-20T05:48:35.710025Z",
     "shell.execute_reply": "2024-07-20T05:48:35.709239Z"
    },
    "papermill": {
     "duration": 0.015462,
     "end_time": "2024-07-20T05:48:35.711894",
     "exception": false,
     "start_time": "2024-07-20T05:48:35.696432",
     "status": "completed"
    },
    "tags": []
   },
   "outputs": [
    {
     "data": {
      "text/plain": [
       "\"training_features = np.load('/kaggle/input/training-selected-features/train_features.npy')\\ntraining_labels = np.load('/kaggle/input/training-selected-features/train_labels.npy')\\n\\nprint(training_features.shape)\\nprint(training_labels.shape)\""
      ]
     },
     "execution_count": 8,
     "metadata": {},
     "output_type": "execute_result"
    }
   ],
   "source": [
    "\"\"\"training_features = np.load('/kaggle/input/training-selected-features/train_features.npy')\n",
    "training_labels = np.load('/kaggle/input/training-selected-features/train_labels.npy')\n",
    "\n",
    "print(training_features.shape)\n",
    "print(training_labels.shape)\"\"\""
   ]
  },
  {
   "cell_type": "code",
   "execution_count": 9,
   "id": "cca4231c",
   "metadata": {
    "execution": {
     "iopub.execute_input": "2024-07-20T05:48:35.729154Z",
     "iopub.status.busy": "2024-07-20T05:48:35.728919Z",
     "iopub.status.idle": "2024-07-20T05:48:35.734387Z",
     "shell.execute_reply": "2024-07-20T05:48:35.733608Z"
    },
    "papermill": {
     "duration": 0.016326,
     "end_time": "2024-07-20T05:48:35.736350",
     "exception": false,
     "start_time": "2024-07-20T05:48:35.720024",
     "status": "completed"
    },
    "tags": []
   },
   "outputs": [
    {
     "data": {
      "text/plain": [
       "\"# Using Random Forest as the base estimator\\nrf = RandomForestClassifier(n_jobs=-1, class_weight='balanced', max_depth=5)\\n\\n# Fix Boruta for data types\\nBorutaPy._fit.__globals__['np'].int = int\\nBorutaPy._fit.__globals__['np'].float = float\\nnp.bool = np.bool_\\n\\n# Initialize Boruta\\nboruta = BorutaPy(estimator=rf, n_estimators='auto', verbose=2, random_state=1)\\n\\n# Fit Boruta\\nboruta.fit(training_features, training_labels)\\n\\n# Get selected features\\nselected_features = boruta.support_\\n\""
      ]
     },
     "execution_count": 9,
     "metadata": {},
     "output_type": "execute_result"
    }
   ],
   "source": [
    "\"\"\"# Using Random Forest as the base estimator\n",
    "rf = RandomForestClassifier(n_jobs=-1, class_weight='balanced', max_depth=5)\n",
    "\n",
    "# Fix Boruta for data types\n",
    "BorutaPy._fit.__globals__['np'].int = int\n",
    "BorutaPy._fit.__globals__['np'].float = float\n",
    "np.bool = np.bool_\n",
    "\n",
    "# Initialize Boruta\n",
    "boruta = BorutaPy(estimator=rf, n_estimators='auto', verbose=2, random_state=1)\n",
    "\n",
    "# Fit Boruta\n",
    "boruta.fit(training_features, training_labels)\n",
    "\n",
    "# Get selected features\n",
    "selected_features = boruta.support_\n",
    "\"\"\""
   ]
  },
  {
   "cell_type": "code",
   "execution_count": 10,
   "id": "b1665061",
   "metadata": {
    "execution": {
     "iopub.execute_input": "2024-07-20T05:48:35.753914Z",
     "iopub.status.busy": "2024-07-20T05:48:35.753681Z",
     "iopub.status.idle": "2024-07-20T05:48:35.758774Z",
     "shell.execute_reply": "2024-07-20T05:48:35.757986Z"
    },
    "papermill": {
     "duration": 0.016014,
     "end_time": "2024-07-20T05:48:35.760660",
     "exception": false,
     "start_time": "2024-07-20T05:48:35.744646",
     "status": "completed"
    },
    "tags": []
   },
   "outputs": [
    {
     "data": {
      "text/plain": [
       "\"# Filter training features\\nfiltered_training_features = training_features[:, selected_features]\\n\\n# Save filtered features to a .npy file\\nnp.save('/kaggle/working/training_selected_features.npy', filtered_training_features)\\n\\n# Save labels to a .npy file\\nnp.save('/kaggle/working/selected_labels.npy', training_labels)\\n\""
      ]
     },
     "execution_count": 10,
     "metadata": {},
     "output_type": "execute_result"
    }
   ],
   "source": [
    "\"\"\"# Filter training features\n",
    "filtered_training_features = training_features[:, selected_features]\n",
    "\n",
    "# Save filtered features to a .npy file\n",
    "np.save('/kaggle/working/training_selected_features.npy', filtered_training_features)\n",
    "\n",
    "# Save labels to a .npy file\n",
    "np.save('/kaggle/working/selected_labels.npy', training_labels)\n",
    "\"\"\""
   ]
  },
  {
   "cell_type": "code",
   "execution_count": 11,
   "id": "0d484a87",
   "metadata": {
    "execution": {
     "iopub.execute_input": "2024-07-20T05:48:35.778539Z",
     "iopub.status.busy": "2024-07-20T05:48:35.778297Z",
     "iopub.status.idle": "2024-07-20T05:48:35.909687Z",
     "shell.execute_reply": "2024-07-20T05:48:35.908624Z"
    },
    "papermill": {
     "duration": 0.14255,
     "end_time": "2024-07-20T05:48:35.911682",
     "exception": false,
     "start_time": "2024-07-20T05:48:35.769132",
     "status": "completed"
    },
    "tags": []
   },
   "outputs": [
    {
     "name": "stdout",
     "output_type": "stream",
     "text": [
      "Validation features shape: (760, 402)\n",
      "Validation labels shape: (760,)\n",
      "Training features shape: (5329, 402)\n",
      "Training labels shape: (5329,)\n",
      "Test features shape: (384, 402)\n",
      "Test labels shape: (384,)\n"
     ]
    }
   ],
   "source": [
    "import numpy as np\n",
    "\n",
    "# Load the selected features\n",
    "X_train = np.load('/kaggle/input/vgg16-selected-features/X_train_selected.npy')  # Training features\n",
    "X_val = np.load('/kaggle/input/vgg16-selected-features/X_val_selected.npy')      # Validation features\n",
    "X_test = np.load('/kaggle/input/vgg16-selected-features/X_test_selected.npy')    # Test features\n",
    "\n",
    "y_train = np.load('/kaggle/input/vgg16-selected-features/y_train.npy')    # Training labels\n",
    "y_val = np.load('/kaggle/input/vgg16-selected-features/y_val.npy')        # Validation labels\n",
    "y_test = np.load('/kaggle/input/vgg16-selected-features/y_test.npy')      # Test labels\n",
    "\n",
    "# Print shapes to verify\n",
    "print(\"Validation features shape:\", X_val.shape)\n",
    "print(\"Validation labels shape:\", y_val.shape)\n",
    "print(\"Training features shape:\", X_train.shape)\n",
    "print(\"Training labels shape:\", y_train.shape)\n",
    "print(\"Test features shape:\", X_test.shape)\n",
    "print(\"Test labels shape:\", y_test.shape)\n",
    "\n"
   ]
  },
  {
   "cell_type": "code",
   "execution_count": 12,
   "id": "e1932119",
   "metadata": {
    "execution": {
     "iopub.execute_input": "2024-07-20T05:48:35.930952Z",
     "iopub.status.busy": "2024-07-20T05:48:35.930700Z",
     "iopub.status.idle": "2024-07-20T05:48:35.968707Z",
     "shell.execute_reply": "2024-07-20T05:48:35.967775Z"
    },
    "papermill": {
     "duration": 0.049505,
     "end_time": "2024-07-20T05:48:35.970771",
     "exception": false,
     "start_time": "2024-07-20T05:48:35.921266",
     "status": "completed"
    },
    "tags": []
   },
   "outputs": [
    {
     "name": "stdout",
     "output_type": "stream",
     "text": [
      "[[-0.47729048 -0.67881477 -0.17331634 ... -0.91933453 -0.72596747\n",
      "  -0.91029924]\n",
      " [ 0.10504416 -0.36121336  0.02135989 ... -0.28766528 -0.48580873\n",
      "  -0.45528048]\n",
      " [-0.7392214  -0.6011462  -0.4711932  ... -0.41408333 -0.03834041\n",
      "  -0.16802023]\n",
      " ...\n",
      " [ 2.086343    1.8338213   1.9445152  ...  0.4119821  -0.30258498\n",
      "   0.26220828]\n",
      " [ 1.4364353   0.1494202   1.5441539  ... -0.13415611 -0.77498937\n",
      "  -0.14633784]\n",
      " [-0.16951142 -0.64245236  1.0803788  ...  0.05594636 -1.2899164\n",
      "  -1.4362881 ]]\n",
      "[[ 1.2231814  -0.5030245   1.9510878  ... -1.6512549  -1.213716\n",
      "  -1.59927   ]\n",
      " [-0.5415912   0.62446195  0.1917408  ...  1.3440506   1.1954485\n",
      "   0.5339238 ]\n",
      " [ 0.02123174 -0.0663802   0.3809493  ... -0.6354169  -0.17048202\n",
      "  -0.24067025]\n",
      " ...\n",
      " [ 0.44881198 -0.9164701   1.6403857  ... -1.1979746  -1.3824542\n",
      "  -0.25694335]\n",
      " [ 1.1200539   1.6993608   0.81854296 ...  2.2883387  -0.19517608\n",
      "   0.84115815]\n",
      " [-0.00314464 -0.41191006  0.4609748  ... -0.86524355 -1.1074183\n",
      "  -0.43694314]]\n",
      "[[-0.307741    0.2513868  -0.0226474  ...  1.3694273   0.8334395\n",
      "   1.2778598 ]\n",
      " [-0.79276776  0.22375882  0.07941512 ... -0.19497254 -0.4570586\n",
      "  -0.31377265]\n",
      " [ 0.62435025  1.4082991   1.337582   ...  2.0962129   2.526129\n",
      "   3.000519  ]\n",
      " ...\n",
      " [ 2.2021172   0.77544147  2.5058525  ...  2.8748357  -0.46104607\n",
      "   0.62435687]\n",
      " [-0.43919116 -1.0380552  -0.3938556  ... -0.6482947  -1.2009536\n",
      "  -1.2904475 ]\n",
      " [ 2.0238345   1.43696     2.1933537  ... -0.25342092 -1.1676351\n",
      "   0.94569945]]\n"
     ]
    },
    {
     "data": {
      "text/plain": [
       "['scaler.pkl']"
      ]
     },
     "execution_count": 12,
     "metadata": {},
     "output_type": "execute_result"
    }
   ],
   "source": [
    "from sklearn.preprocessing import StandardScaler\n",
    "scaler = StandardScaler()\n",
    "\n",
    "X_train = scaler.fit_transform(X_train)\n",
    "X_val = scaler.transform(X_val)\n",
    "X_test = scaler.transform(X_test)\n",
    "\n",
    "print(X_train)\n",
    "print(X_val)\n",
    "print(X_test)\n",
    "joblib.dump(scaler, 'scaler.pkl')"
   ]
  },
  {
   "cell_type": "code",
   "execution_count": 13,
   "id": "d202e2ba",
   "metadata": {
    "execution": {
     "iopub.execute_input": "2024-07-20T05:48:35.990046Z",
     "iopub.status.busy": "2024-07-20T05:48:35.989772Z",
     "iopub.status.idle": "2024-07-20T05:48:36.066865Z",
     "shell.execute_reply": "2024-07-20T05:48:36.066059Z"
    },
    "papermill": {
     "duration": 0.088808,
     "end_time": "2024-07-20T05:48:36.068745",
     "exception": false,
     "start_time": "2024-07-20T05:48:35.979937",
     "status": "completed"
    },
    "tags": []
   },
   "outputs": [
    {
     "data": {
      "text/html": [
       "<pre style=\"white-space:pre;overflow-x:auto;line-height:normal;font-family:Menlo,'DejaVu Sans Mono',consolas,'Courier New',monospace\"><span style=\"font-weight: bold\">Model: \"sequential\"</span>\n",
       "</pre>\n"
      ],
      "text/plain": [
       "\u001b[1mModel: \"sequential\"\u001b[0m\n"
      ]
     },
     "metadata": {},
     "output_type": "display_data"
    },
    {
     "data": {
      "text/html": [
       "<pre style=\"white-space:pre;overflow-x:auto;line-height:normal;font-family:Menlo,'DejaVu Sans Mono',consolas,'Courier New',monospace\">┏━━━━━━━━━━━━━━━━━━━━━━━━━━━━━━━━━┳━━━━━━━━━━━━━━━━━━━━━━━━┳━━━━━━━━━━━━━━━┓\n",
       "┃<span style=\"font-weight: bold\"> Layer (type)                    </span>┃<span style=\"font-weight: bold\"> Output Shape           </span>┃<span style=\"font-weight: bold\">       Param # </span>┃\n",
       "┡━━━━━━━━━━━━━━━━━━━━━━━━━━━━━━━━━╇━━━━━━━━━━━━━━━━━━━━━━━━╇━━━━━━━━━━━━━━━┩\n",
       "│ dense (<span style=\"color: #0087ff; text-decoration-color: #0087ff\">Dense</span>)                   │ (<span style=\"color: #00d7ff; text-decoration-color: #00d7ff\">None</span>, <span style=\"color: #00af00; text-decoration-color: #00af00\">4098</span>)           │     <span style=\"color: #00af00; text-decoration-color: #00af00\">1,651,494</span> │\n",
       "├─────────────────────────────────┼────────────────────────┼───────────────┤\n",
       "│ dropout (<span style=\"color: #0087ff; text-decoration-color: #0087ff\">Dropout</span>)               │ (<span style=\"color: #00d7ff; text-decoration-color: #00d7ff\">None</span>, <span style=\"color: #00af00; text-decoration-color: #00af00\">4098</span>)           │             <span style=\"color: #00af00; text-decoration-color: #00af00\">0</span> │\n",
       "├─────────────────────────────────┼────────────────────────┼───────────────┤\n",
       "│ dense_1 (<span style=\"color: #0087ff; text-decoration-color: #0087ff\">Dense</span>)                 │ (<span style=\"color: #00d7ff; text-decoration-color: #00d7ff\">None</span>, <span style=\"color: #00af00; text-decoration-color: #00af00\">4098</span>)           │    <span style=\"color: #00af00; text-decoration-color: #00af00\">16,797,702</span> │\n",
       "├─────────────────────────────────┼────────────────────────┼───────────────┤\n",
       "│ dropout_1 (<span style=\"color: #0087ff; text-decoration-color: #0087ff\">Dropout</span>)             │ (<span style=\"color: #00d7ff; text-decoration-color: #00d7ff\">None</span>, <span style=\"color: #00af00; text-decoration-color: #00af00\">4098</span>)           │             <span style=\"color: #00af00; text-decoration-color: #00af00\">0</span> │\n",
       "├─────────────────────────────────┼────────────────────────┼───────────────┤\n",
       "│ dense_2 (<span style=\"color: #0087ff; text-decoration-color: #0087ff\">Dense</span>)                 │ (<span style=\"color: #00d7ff; text-decoration-color: #00d7ff\">None</span>, <span style=\"color: #00af00; text-decoration-color: #00af00\">3</span>)              │        <span style=\"color: #00af00; text-decoration-color: #00af00\">12,297</span> │\n",
       "└─────────────────────────────────┴────────────────────────┴───────────────┘\n",
       "</pre>\n"
      ],
      "text/plain": [
       "┏━━━━━━━━━━━━━━━━━━━━━━━━━━━━━━━━━┳━━━━━━━━━━━━━━━━━━━━━━━━┳━━━━━━━━━━━━━━━┓\n",
       "┃\u001b[1m \u001b[0m\u001b[1mLayer (type)                   \u001b[0m\u001b[1m \u001b[0m┃\u001b[1m \u001b[0m\u001b[1mOutput Shape          \u001b[0m\u001b[1m \u001b[0m┃\u001b[1m \u001b[0m\u001b[1m      Param #\u001b[0m\u001b[1m \u001b[0m┃\n",
       "┡━━━━━━━━━━━━━━━━━━━━━━━━━━━━━━━━━╇━━━━━━━━━━━━━━━━━━━━━━━━╇━━━━━━━━━━━━━━━┩\n",
       "│ dense (\u001b[38;5;33mDense\u001b[0m)                   │ (\u001b[38;5;45mNone\u001b[0m, \u001b[38;5;34m4098\u001b[0m)           │     \u001b[38;5;34m1,651,494\u001b[0m │\n",
       "├─────────────────────────────────┼────────────────────────┼───────────────┤\n",
       "│ dropout (\u001b[38;5;33mDropout\u001b[0m)               │ (\u001b[38;5;45mNone\u001b[0m, \u001b[38;5;34m4098\u001b[0m)           │             \u001b[38;5;34m0\u001b[0m │\n",
       "├─────────────────────────────────┼────────────────────────┼───────────────┤\n",
       "│ dense_1 (\u001b[38;5;33mDense\u001b[0m)                 │ (\u001b[38;5;45mNone\u001b[0m, \u001b[38;5;34m4098\u001b[0m)           │    \u001b[38;5;34m16,797,702\u001b[0m │\n",
       "├─────────────────────────────────┼────────────────────────┼───────────────┤\n",
       "│ dropout_1 (\u001b[38;5;33mDropout\u001b[0m)             │ (\u001b[38;5;45mNone\u001b[0m, \u001b[38;5;34m4098\u001b[0m)           │             \u001b[38;5;34m0\u001b[0m │\n",
       "├─────────────────────────────────┼────────────────────────┼───────────────┤\n",
       "│ dense_2 (\u001b[38;5;33mDense\u001b[0m)                 │ (\u001b[38;5;45mNone\u001b[0m, \u001b[38;5;34m3\u001b[0m)              │        \u001b[38;5;34m12,297\u001b[0m │\n",
       "└─────────────────────────────────┴────────────────────────┴───────────────┘\n"
      ]
     },
     "metadata": {},
     "output_type": "display_data"
    },
    {
     "data": {
      "text/html": [
       "<pre style=\"white-space:pre;overflow-x:auto;line-height:normal;font-family:Menlo,'DejaVu Sans Mono',consolas,'Courier New',monospace\"><span style=\"font-weight: bold\"> Total params: </span><span style=\"color: #00af00; text-decoration-color: #00af00\">18,461,493</span> (70.43 MB)\n",
       "</pre>\n"
      ],
      "text/plain": [
       "\u001b[1m Total params: \u001b[0m\u001b[38;5;34m18,461,493\u001b[0m (70.43 MB)\n"
      ]
     },
     "metadata": {},
     "output_type": "display_data"
    },
    {
     "data": {
      "text/html": [
       "<pre style=\"white-space:pre;overflow-x:auto;line-height:normal;font-family:Menlo,'DejaVu Sans Mono',consolas,'Courier New',monospace\"><span style=\"font-weight: bold\"> Trainable params: </span><span style=\"color: #00af00; text-decoration-color: #00af00\">18,461,493</span> (70.43 MB)\n",
       "</pre>\n"
      ],
      "text/plain": [
       "\u001b[1m Trainable params: \u001b[0m\u001b[38;5;34m18,461,493\u001b[0m (70.43 MB)\n"
      ]
     },
     "metadata": {},
     "output_type": "display_data"
    },
    {
     "data": {
      "text/html": [
       "<pre style=\"white-space:pre;overflow-x:auto;line-height:normal;font-family:Menlo,'DejaVu Sans Mono',consolas,'Courier New',monospace\"><span style=\"font-weight: bold\"> Non-trainable params: </span><span style=\"color: #00af00; text-decoration-color: #00af00\">0</span> (0.00 B)\n",
       "</pre>\n"
      ],
      "text/plain": [
       "\u001b[1m Non-trainable params: \u001b[0m\u001b[38;5;34m0\u001b[0m (0.00 B)\n"
      ]
     },
     "metadata": {},
     "output_type": "display_data"
    }
   ],
   "source": [
    "from tensorflow.keras import layers, models, optimizers, regularizers, initializers\n",
    "\n",
    "num_classes = 3\n",
    "weight_decay = 0.0005\n",
    "\n",
    "# Create the model\n",
    "model_train = models.Sequential()\n",
    "model_train.add(layers.Input(shape=(X_train.shape[1],)))\n",
    "\n",
    "# First Dense Layer\n",
    "model_train.add(layers.Dense(4098, activation='relu',\n",
    "                             kernel_regularizer=regularizers.l2(weight_decay)\n",
    "                             ))\n",
    "model_train.add(layers.Dropout(0.5))\n",
    "\n",
    "# Second Dense Layer\n",
    "model_train.add(layers.Dense(4098, activation='relu',\n",
    "                             kernel_regularizer=regularizers.l2(weight_decay)\n",
    "                             ))\n",
    "model_train.add(layers.Dropout(0.5))\n",
    "\n",
    "# Output Layer\n",
    "model_train.add(layers.Dense(num_classes, activation='softmax'))\n",
    "\n",
    "# Compile the model with SGD\n",
    "sgd_optimizer = optimizers.SGD(learning_rate=0.001, momentum=0.9)\n",
    "model_train.compile(optimizer=sgd_optimizer, \n",
    "                    loss='sparse_categorical_crossentropy', \n",
    "                    metrics=['accuracy'])\n",
    "\n",
    "model_train.summary()\n"
   ]
  },
  {
   "cell_type": "code",
   "execution_count": 14,
   "id": "6ad80ee3",
   "metadata": {
    "execution": {
     "iopub.execute_input": "2024-07-20T05:48:36.089300Z",
     "iopub.status.busy": "2024-07-20T05:48:36.088994Z",
     "iopub.status.idle": "2024-07-20T05:49:12.828119Z",
     "shell.execute_reply": "2024-07-20T05:49:12.827177Z"
    },
    "papermill": {
     "duration": 36.751859,
     "end_time": "2024-07-20T05:49:12.830294",
     "exception": false,
     "start_time": "2024-07-20T05:48:36.078435",
     "status": "completed"
    },
    "tags": []
   },
   "outputs": [
    {
     "name": "stdout",
     "output_type": "stream",
     "text": [
      "Epoch 1/40\n",
      "\u001b[1m16/21\u001b[0m \u001b[32m━━━━━━━━━━━━━━━\u001b[0m\u001b[37m━━━━━\u001b[0m \u001b[1m0s\u001b[0m 7ms/step - accuracy: 0.3673 - loss: 3.5675"
     ]
    },
    {
     "name": "stderr",
     "output_type": "stream",
     "text": [
      "WARNING: All log messages before absl::InitializeLog() is called are written to STDERR\n",
      "I0000 00:00:1721454521.135081      66 device_compiler.h:186] Compiled cluster using XLA!  This line is logged at most once for the lifetime of the process.\n",
      "W0000 00:00:1721454521.153481      66 graph_launch.cc:671] Fallback to op-by-op mode because memset node breaks graph update\n"
     ]
    },
    {
     "name": "stdout",
     "output_type": "stream",
     "text": [
      "\u001b[1m21/21\u001b[0m \u001b[32m━━━━━━━━━━━━━━━━━━━━\u001b[0m\u001b[37m\u001b[0m \u001b[1m0s\u001b[0m 179ms/step - accuracy: 0.3800 - loss: 3.5513"
     ]
    },
    {
     "name": "stderr",
     "output_type": "stream",
     "text": [
      "W0000 00:00:1721454524.727748      66 graph_launch.cc:671] Fallback to op-by-op mode because memset node breaks graph update\n",
      "W0000 00:00:1721454525.285997      68 graph_launch.cc:671] Fallback to op-by-op mode because memset node breaks graph update\n",
      "W0000 00:00:1721454525.760368      66 graph_launch.cc:671] Fallback to op-by-op mode because memset node breaks graph update\n"
     ]
    },
    {
     "name": "stdout",
     "output_type": "stream",
     "text": [
      "\u001b[1m21/21\u001b[0m \u001b[32m━━━━━━━━━━━━━━━━━━━━\u001b[0m\u001b[37m\u001b[0m \u001b[1m10s\u001b[0m 267ms/step - accuracy: 0.3824 - loss: 3.5484 - val_accuracy: 0.6171 - val_loss: 3.2701\n",
      "Epoch 2/40\n",
      "\u001b[1m21/21\u001b[0m \u001b[32m━━━━━━━━━━━━━━━━━━━━\u001b[0m\u001b[37m\u001b[0m \u001b[1m1s\u001b[0m 51ms/step - accuracy: 0.5860 - loss: 3.3106 - val_accuracy: 0.6737 - val_loss: 3.1639\n",
      "Epoch 3/40\n",
      "\u001b[1m21/21\u001b[0m \u001b[32m━━━━━━━━━━━━━━━━━━━━\u001b[0m\u001b[37m\u001b[0m \u001b[1m1s\u001b[0m 50ms/step - accuracy: 0.6565 - loss: 3.2103 - val_accuracy: 0.7039 - val_loss: 3.0978\n",
      "Epoch 4/40\n",
      "\u001b[1m21/21\u001b[0m \u001b[32m━━━━━━━━━━━━━━━━━━━━\u001b[0m\u001b[37m\u001b[0m \u001b[1m1s\u001b[0m 51ms/step - accuracy: 0.6757 - loss: 3.1595 - val_accuracy: 0.7158 - val_loss: 3.0532\n",
      "Epoch 5/40\n",
      "\u001b[1m21/21\u001b[0m \u001b[32m━━━━━━━━━━━━━━━━━━━━\u001b[0m\u001b[37m\u001b[0m \u001b[1m1s\u001b[0m 50ms/step - accuracy: 0.7002 - loss: 3.1101 - val_accuracy: 0.7316 - val_loss: 3.0235\n",
      "Epoch 6/40\n",
      "\u001b[1m21/21\u001b[0m \u001b[32m━━━━━━━━━━━━━━━━━━━━\u001b[0m\u001b[37m\u001b[0m \u001b[1m3s\u001b[0m 126ms/step - accuracy: 0.7108 - loss: 3.0912 - val_accuracy: 0.7355 - val_loss: 3.0056\n",
      "Epoch 7/40\n",
      "\u001b[1m21/21\u001b[0m \u001b[32m━━━━━━━━━━━━━━━━━━━━\u001b[0m\u001b[37m\u001b[0m \u001b[1m1s\u001b[0m 48ms/step - accuracy: 0.7232 - loss: 3.0476 - val_accuracy: 0.7395 - val_loss: 2.9825\n",
      "Epoch 8/40\n",
      "\u001b[1m21/21\u001b[0m \u001b[32m━━━━━━━━━━━━━━━━━━━━\u001b[0m\u001b[37m\u001b[0m \u001b[1m1s\u001b[0m 50ms/step - accuracy: 0.7350 - loss: 3.0293 - val_accuracy: 0.7566 - val_loss: 2.9623\n",
      "Epoch 9/40\n",
      "\u001b[1m21/21\u001b[0m \u001b[32m━━━━━━━━━━━━━━━━━━━━\u001b[0m\u001b[37m\u001b[0m \u001b[1m2s\u001b[0m 104ms/step - accuracy: 0.7280 - loss: 3.0295 - val_accuracy: 0.7605 - val_loss: 2.9547\n",
      "Epoch 10/40\n",
      "\u001b[1m21/21\u001b[0m \u001b[32m━━━━━━━━━━━━━━━━━━━━\u001b[0m\u001b[37m\u001b[0m \u001b[1m1s\u001b[0m 49ms/step - accuracy: 0.7542 - loss: 2.9933 - val_accuracy: 0.7632 - val_loss: 2.9409\n",
      "Epoch 11/40\n",
      "\u001b[1m21/21\u001b[0m \u001b[32m━━━━━━━━━━━━━━━━━━━━\u001b[0m\u001b[37m\u001b[0m \u001b[1m1s\u001b[0m 50ms/step - accuracy: 0.7572 - loss: 2.9847 - val_accuracy: 0.7737 - val_loss: 2.9326\n",
      "Epoch 12/40\n",
      "\u001b[1m21/21\u001b[0m \u001b[32m━━━━━━━━━━━━━━━━━━━━\u001b[0m\u001b[37m\u001b[0m \u001b[1m1s\u001b[0m 50ms/step - accuracy: 0.7549 - loss: 2.9791 - val_accuracy: 0.7750 - val_loss: 2.9217\n",
      "Epoch 13/40\n",
      "\u001b[1m21/21\u001b[0m \u001b[32m━━━━━━━━━━━━━━━━━━━━\u001b[0m\u001b[37m\u001b[0m \u001b[1m0s\u001b[0m 8ms/step - accuracy: 0.7602 - loss: 2.9694 - val_accuracy: 0.7750 - val_loss: 2.9146\n",
      "Epoch 14/40\n",
      "\u001b[1m21/21\u001b[0m \u001b[32m━━━━━━━━━━━━━━━━━━━━\u001b[0m\u001b[37m\u001b[0m \u001b[1m1s\u001b[0m 48ms/step - accuracy: 0.7656 - loss: 2.9503 - val_accuracy: 0.7789 - val_loss: 2.9085\n",
      "Epoch 15/40\n",
      "\u001b[1m21/21\u001b[0m \u001b[32m━━━━━━━━━━━━━━━━━━━━\u001b[0m\u001b[37m\u001b[0m \u001b[1m1s\u001b[0m 50ms/step - accuracy: 0.7638 - loss: 2.9495 - val_accuracy: 0.7816 - val_loss: 2.9027\n",
      "Epoch 16/40\n",
      "\u001b[1m21/21\u001b[0m \u001b[32m━━━━━━━━━━━━━━━━━━━━\u001b[0m\u001b[37m\u001b[0m \u001b[1m0s\u001b[0m 8ms/step - accuracy: 0.7665 - loss: 2.9345 - val_accuracy: 0.7816 - val_loss: 2.8963\n",
      "Epoch 17/40\n",
      "\u001b[1m21/21\u001b[0m \u001b[32m━━━━━━━━━━━━━━━━━━━━\u001b[0m\u001b[37m\u001b[0m \u001b[1m1s\u001b[0m 50ms/step - accuracy: 0.7705 - loss: 2.9254 - val_accuracy: 0.7855 - val_loss: 2.8932\n",
      "Epoch 18/40\n",
      "\u001b[1m21/21\u001b[0m \u001b[32m━━━━━━━━━━━━━━━━━━━━\u001b[0m\u001b[37m\u001b[0m \u001b[1m0s\u001b[0m 8ms/step - accuracy: 0.7696 - loss: 2.9287 - val_accuracy: 0.7855 - val_loss: 2.8881\n",
      "Epoch 19/40\n",
      "\u001b[1m21/21\u001b[0m \u001b[32m━━━━━━━━━━━━━━━━━━━━\u001b[0m\u001b[37m\u001b[0m \u001b[1m0s\u001b[0m 8ms/step - accuracy: 0.7704 - loss: 2.9131 - val_accuracy: 0.7842 - val_loss: 2.8877\n",
      "Epoch 20/40\n",
      "\u001b[1m21/21\u001b[0m \u001b[32m━━━━━━━━━━━━━━━━━━━━\u001b[0m\u001b[37m\u001b[0m \u001b[1m1s\u001b[0m 49ms/step - accuracy: 0.7786 - loss: 2.9071 - val_accuracy: 0.7868 - val_loss: 2.8785\n",
      "Epoch 21/40\n",
      "\u001b[1m21/21\u001b[0m \u001b[32m━━━━━━━━━━━━━━━━━━━━\u001b[0m\u001b[37m\u001b[0m \u001b[1m0s\u001b[0m 9ms/step - accuracy: 0.7845 - loss: 2.8939 - val_accuracy: 0.7855 - val_loss: 2.8739\n",
      "Epoch 22/40\n",
      "\u001b[1m21/21\u001b[0m \u001b[32m━━━━━━━━━━━━━━━━━━━━\u001b[0m\u001b[37m\u001b[0m \u001b[1m0s\u001b[0m 9ms/step - accuracy: 0.7947 - loss: 2.8791 - val_accuracy: 0.7842 - val_loss: 2.8731\n",
      "Epoch 23/40\n",
      "\u001b[1m21/21\u001b[0m \u001b[32m━━━━━━━━━━━━━━━━━━━━\u001b[0m\u001b[37m\u001b[0m \u001b[1m3s\u001b[0m 132ms/step - accuracy: 0.7832 - loss: 2.8936 - val_accuracy: 0.7947 - val_loss: 2.8702\n",
      "Epoch 24/40\n",
      "\u001b[1m21/21\u001b[0m \u001b[32m━━━━━━━━━━━━━━━━━━━━\u001b[0m\u001b[37m\u001b[0m \u001b[1m0s\u001b[0m 9ms/step - accuracy: 0.7884 - loss: 2.8820 - val_accuracy: 0.7908 - val_loss: 2.8680\n",
      "Epoch 25/40\n",
      "\u001b[1m21/21\u001b[0m \u001b[32m━━━━━━━━━━━━━━━━━━━━\u001b[0m\u001b[37m\u001b[0m \u001b[1m0s\u001b[0m 9ms/step - accuracy: 0.7965 - loss: 2.8782 - val_accuracy: 0.7895 - val_loss: 2.8626\n",
      "Epoch 26/40\n",
      "\u001b[1m21/21\u001b[0m \u001b[32m━━━━━━━━━━━━━━━━━━━━\u001b[0m\u001b[37m\u001b[0m \u001b[1m0s\u001b[0m 10ms/step - accuracy: 0.7882 - loss: 2.8840 - val_accuracy: 0.7803 - val_loss: 2.8655\n",
      "Epoch 27/40\n",
      "\u001b[1m21/21\u001b[0m \u001b[32m━━━━━━━━━━━━━━━━━━━━\u001b[0m\u001b[37m\u001b[0m \u001b[1m0s\u001b[0m 9ms/step - accuracy: 0.7968 - loss: 2.8680 - val_accuracy: 0.7842 - val_loss: 2.8608\n",
      "Epoch 28/40\n",
      "\u001b[1m21/21\u001b[0m \u001b[32m━━━━━━━━━━━━━━━━━━━━\u001b[0m\u001b[37m\u001b[0m \u001b[1m0s\u001b[0m 9ms/step - accuracy: 0.7925 - loss: 2.8591 - val_accuracy: 0.7947 - val_loss: 2.8548\n",
      "Epoch 29/40\n",
      "\u001b[1m21/21\u001b[0m \u001b[32m━━━━━━━━━━━━━━━━━━━━\u001b[0m\u001b[37m\u001b[0m \u001b[1m0s\u001b[0m 8ms/step - accuracy: 0.8052 - loss: 2.8542 - val_accuracy: 0.7842 - val_loss: 2.8563\n",
      "Epoch 30/40\n",
      "\u001b[1m21/21\u001b[0m \u001b[32m━━━━━━━━━━━━━━━━━━━━\u001b[0m\u001b[37m\u001b[0m \u001b[1m0s\u001b[0m 8ms/step - accuracy: 0.7977 - loss: 2.8635 - val_accuracy: 0.7855 - val_loss: 2.8520\n",
      "Epoch 31/40\n",
      "\u001b[1m21/21\u001b[0m \u001b[32m━━━━━━━━━━━━━━━━━━━━\u001b[0m\u001b[37m\u001b[0m \u001b[1m0s\u001b[0m 8ms/step - accuracy: 0.7923 - loss: 2.8687 - val_accuracy: 0.7895 - val_loss: 2.8510\n",
      "Epoch 32/40\n",
      "\u001b[1m21/21\u001b[0m \u001b[32m━━━━━━━━━━━━━━━━━━━━\u001b[0m\u001b[37m\u001b[0m \u001b[1m0s\u001b[0m 8ms/step - accuracy: 0.8006 - loss: 2.8472 - val_accuracy: 0.7842 - val_loss: 2.8491\n",
      "Epoch 33/40\n",
      "\u001b[1m21/21\u001b[0m \u001b[32m━━━━━━━━━━━━━━━━━━━━\u001b[0m\u001b[37m\u001b[0m \u001b[1m0s\u001b[0m 8ms/step - accuracy: 0.7962 - loss: 2.8505 - val_accuracy: 0.7895 - val_loss: 2.8476\n",
      "Epoch 34/40\n",
      "\u001b[1m21/21\u001b[0m \u001b[32m━━━━━━━━━━━━━━━━━━━━\u001b[0m\u001b[37m\u001b[0m \u001b[1m0s\u001b[0m 8ms/step - accuracy: 0.8030 - loss: 2.8337 - val_accuracy: 0.7947 - val_loss: 2.8440\n",
      "Epoch 35/40\n",
      "\u001b[1m21/21\u001b[0m \u001b[32m━━━━━━━━━━━━━━━━━━━━\u001b[0m\u001b[37m\u001b[0m \u001b[1m0s\u001b[0m 8ms/step - accuracy: 0.7998 - loss: 2.8400 - val_accuracy: 0.7908 - val_loss: 2.8439\n",
      "Epoch 36/40\n",
      "\u001b[1m21/21\u001b[0m \u001b[32m━━━━━━━━━━━━━━━━━━━━\u001b[0m\u001b[37m\u001b[0m \u001b[1m0s\u001b[0m 8ms/step - accuracy: 0.7959 - loss: 2.8354 - val_accuracy: 0.7882 - val_loss: 2.8393\n",
      "Epoch 37/40\n",
      "\u001b[1m21/21\u001b[0m \u001b[32m━━━━━━━━━━━━━━━━━━━━\u001b[0m\u001b[37m\u001b[0m \u001b[1m0s\u001b[0m 8ms/step - accuracy: 0.7952 - loss: 2.8424 - val_accuracy: 0.7947 - val_loss: 2.8390\n",
      "Epoch 38/40\n",
      "\u001b[1m21/21\u001b[0m \u001b[32m━━━━━━━━━━━━━━━━━━━━\u001b[0m\u001b[37m\u001b[0m \u001b[1m0s\u001b[0m 8ms/step - accuracy: 0.8045 - loss: 2.8219 - val_accuracy: 0.7868 - val_loss: 2.8384\n",
      "Epoch 39/40\n",
      "\u001b[1m21/21\u001b[0m \u001b[32m━━━━━━━━━━━━━━━━━━━━\u001b[0m\u001b[37m\u001b[0m \u001b[1m0s\u001b[0m 8ms/step - accuracy: 0.8009 - loss: 2.8407 - val_accuracy: 0.7895 - val_loss: 2.8363\n",
      "Epoch 40/40\n",
      "\u001b[1m21/21\u001b[0m \u001b[32m━━━━━━━━━━━━━━━━━━━━\u001b[0m\u001b[37m\u001b[0m \u001b[1m0s\u001b[0m 8ms/step - accuracy: 0.8038 - loss: 2.8280 - val_accuracy: 0.7934 - val_loss: 2.8363\n"
     ]
    },
    {
     "data": {
      "image/png": "[encoded data removed]",
      "text/plain": [
       "<Figure size 1200x500 with 2 Axes>"
      ]
     },
     "metadata": {},
     "output_type": "display_data"
    }
   ],
   "source": [
    "# Define callbacks\n",
    "early_stopping = EarlyStopping(monitor='val_accuracy', patience=10, restore_best_weights=True, verbose=1)\n",
    "model_checkpoint = ModelCheckpoint('best_model.keras', save_best_only=True, monitor='val_accuracy', mode='max')\n",
    "\n",
    "\n",
    "# Train the model with the callbacks\n",
    "history = model_train.fit(X_train, y_train, \n",
    "                    validation_data=(X_val, y_val), \n",
    "                    epochs=40, \n",
    "                    batch_size=256, \n",
    "                    callbacks=[model_checkpoint])\n",
    "\n",
    "\n",
    "# Plot loss\n",
    "plt.figure(figsize=(12, 5))\n",
    "\n",
    "# Loss\n",
    "plt.subplot(1, 2, 1)\n",
    "plt.plot(history.history['loss'], label='Training Loss')\n",
    "plt.plot(history.history['val_loss'], label='Validation Loss')\n",
    "plt.title('Training and Validation Loss')\n",
    "plt.xlabel('Epochs')\n",
    "plt.ylabel('Loss')\n",
    "plt.legend()\n",
    "\n",
    "# accu\n",
    "plt.subplot(1, 2, 2)\n",
    "plt.plot(history.history.get('accuracy', []), label='Training Accuracy')\n",
    "plt.plot(history.history.get('val_accuracy', []), label='Validation Accuracy')\n",
    "plt.title('Training and Validation Accuracy')\n",
    "plt.xlabel('Epochs')\n",
    "plt.ylabel('Accuracy')\n",
    "plt.legend()\n",
    "\n",
    "plt.savefig('training_validation_plot.jpeg', format='jpeg')\n",
    "\n",
    "plt.tight_layout()\n",
    "plt.show()\n"
   ]
  },
  {
   "cell_type": "code",
   "execution_count": 15,
   "id": "a0493dc1",
   "metadata": {
    "execution": {
     "iopub.execute_input": "2024-07-20T05:49:12.885121Z",
     "iopub.status.busy": "2024-07-20T05:49:12.884853Z",
     "iopub.status.idle": "2024-07-20T05:49:14.706648Z",
     "shell.execute_reply": "2024-07-20T05:49:14.705762Z"
    },
    "papermill": {
     "duration": 1.851556,
     "end_time": "2024-07-20T05:49:14.708694",
     "exception": false,
     "start_time": "2024-07-20T05:49:12.857138",
     "status": "completed"
    },
    "tags": []
   },
   "outputs": [
    {
     "name": "stdout",
     "output_type": "stream",
     "text": [
      "\u001b[1m12/12\u001b[0m \u001b[32m━━━━━━━━━━━━━━━━━━━━\u001b[0m\u001b[37m\u001b[0m \u001b[1m0s\u001b[0m 1ms/step  \n",
      "Accuracy: 0.8177083333333334\n",
      "Classification Report:\n",
      "               precision    recall  f1-score   support\n",
      "\n",
      "           0       0.80      0.82      0.81       129\n",
      "           1       0.77      0.68      0.72       129\n",
      "           2       0.87      0.95      0.91       126\n",
      "\n",
      "    accuracy                           0.82       384\n",
      "   macro avg       0.81      0.82      0.82       384\n",
      "weighted avg       0.81      0.82      0.81       384\n",
      "\n"
     ]
    },
    {
     "data": {
      "image/png": "[encoded data removed]",
      "text/plain": [
       "<Figure size 1500x800 with 1 Axes>"
      ]
     },
     "metadata": {},
     "output_type": "display_data"
    },
    {
     "data": {
      "image/png": "[encoded data removed]",
      "text/plain": [
       "<Figure size 1000x700 with 2 Axes>"
      ]
     },
     "metadata": {},
     "output_type": "display_data"
    },
    {
     "data": {
      "image/png": "[encoded data removed]",
      "text/plain": [
       "<Figure size 640x480 with 1 Axes>"
      ]
     },
     "metadata": {},
     "output_type": "display_data"
    }
   ],
   "source": [
    "import os\n",
    "import numpy as np\n",
    "from keras.models import load_model\n",
    "from sklearn.metrics import (accuracy_score, classification_report, confusion_matrix,\n",
    "                             precision_recall_fscore_support, roc_curve, auc)\n",
    "import seaborn as sns\n",
    "import matplotlib.pyplot as plt\n",
    "\n",
    "# Load your trained model\n",
    "model = load_model('/kaggle/working/best_model.keras')\n",
    "\n",
    "# Load the test features and labels\n",
    "test_features = np.load('/kaggle/input/vgg16-selected-features/X_test_selected.npy')\n",
    "test_labels = np.load('/kaggle/input/vgg16-selected-features/y_test.npy')\n",
    "\n",
    "test_features = scaler.transform(test_features)\n",
    "\n",
    "# Get class names from the test set directory\n",
    "test_folder = '/kaggle/input/balanced-training-data/new_balanced_dataset/test'\n",
    "class_names = sorted(os.listdir(test_folder))\n",
    "\n",
    "# Make predictions\n",
    "predictions = model.predict(test_features)\n",
    "predicted_classes = np.argmax(predictions, axis=1)\n",
    "\n",
    "# Evaluate the model\n",
    "accuracy = accuracy_score(test_labels, predicted_classes)\n",
    "report = classification_report(test_labels, predicted_classes, target_names=class_names)\n",
    "\n",
    "print(\"Accuracy:\", accuracy)\n",
    "print(\"Classification Report:\\n\", report)\n",
    "\n",
    "# Calculate Precision, Recall, F1 Score per class\n",
    "precision, recall, f1, _ = precision_recall_fscore_support(test_labels, predicted_classes, average=None)\n",
    "\n",
    "# Create a bar graph\n",
    "plt.figure(figsize=(15, 8))\n",
    "class_names_list = list(class_names)  # Convert class_names to a list for indexing\n",
    "\n",
    "# Set width for each bar (adjust as needed)\n",
    "bar_width = 0.20\n",
    "\n",
    "# Create bar positions for each metric\n",
    "x_axis = np.arange(len(class_names))  # Positions for bars\n",
    "\n",
    "# Plot Precision bars\n",
    "plt.bar(x_axis - bar_width/2, precision, bar_width, label='Precision')\n",
    "\n",
    "# Plot Recall bars (shifted to the right)\n",
    "plt.bar(x_axis + bar_width/2, recall, bar_width, label='Recall')\n",
    "\n",
    "# Plot F1 Score bars (shifted further to the right)\n",
    "plt.bar(x_axis + 3*bar_width/2, f1, bar_width, label='F1 Score')\n",
    "\n",
    "# Set x-axis labels with rotation\n",
    "plt.xticks(x_axis, class_names_list, rotation=45)\n",
    "plt.ylim(0, 1)  # Adjust y-axis limits as needed\n",
    "plt.legend()\n",
    "plt.title('Precision, Recall, and F1 Score per Class')\n",
    "plt.savefig('precision recall and f1 score graph.jpeg', format='jpeg')\n",
    "plt.show()\n",
    "\n",
    "# Plot confusion matrix\n",
    "conf_matrix = confusion_matrix(test_labels, predicted_classes)\n",
    "\n",
    "plt.figure(figsize=(10, 7))\n",
    "sns.heatmap(conf_matrix, annot=True, fmt='d', cmap='Blues', xticklabels=class_names, yticklabels=class_names)\n",
    "plt.ylabel('Actual')\n",
    "plt.xlabel('Predicted')\n",
    "plt.title('Confusion Matrix')\n",
    "plt.savefig('confusion_matrix.jpeg', format='jpeg')\n",
    "plt.show()\n",
    "\n",
    "# Calculate ROC curve and AUC\n",
    "from sklearn.preprocessing import label_binarize\n",
    "\n",
    "# Binarize the output\n",
    "y_test_bin = label_binarize(test_labels, classes=range(len(class_names)))\n",
    "y_score = predictions\n",
    "\n",
    "# Compute ROC curve and AUC for each class\n",
    "fpr = {}\n",
    "tpr = {}\n",
    "roc_auc = {}\n",
    "\n",
    "for i in range(len(class_names)):\n",
    "    fpr[i], tpr[i], _ = roc_curve(y_test_bin[:, i], y_score[:, i])\n",
    "    roc_auc[i] = auc(fpr[i], tpr[i])\n",
    "\n",
    "# Plot ROC curves\n",
    "plt.figure()\n",
    "for i in range(len(class_names)):\n",
    "    plt.plot(fpr[i], tpr[i], label=f'ROC curve (class {class_names[i]}), AUC = {roc_auc[i]:.2f}')\n",
    "\n",
    "plt.plot([0, 1], [0, 1], 'k--')\n",
    "plt.xlim([0.0, 1.0])\n",
    "plt.ylim([0.0, 1.05])\n",
    "plt.xlabel('False Positive Rate')\n",
    "plt.ylabel('True Positive Rate')\n",
    "plt.title('Receiver Operating Characteristic')\n",
    "plt.legend(loc='lower right')\n",
    "plt.savefig('AUCROC.jpeg', format='jpeg')\n",
    "plt.show()\n",
    "\n"
   ]
  },
  {
   "cell_type": "code",
   "execution_count": 16,
   "id": "9dde7c1d",
   "metadata": {
    "execution": {
     "iopub.execute_input": "2024-07-20T05:49:14.766466Z",
     "iopub.status.busy": "2024-07-20T05:49:14.766167Z",
     "iopub.status.idle": "2024-07-20T05:49:14.802171Z",
     "shell.execute_reply": "2024-07-20T05:49:14.800857Z"
    },
    "papermill": {
     "duration": 0.067085,
     "end_time": "2024-07-20T05:49:14.804146",
     "exception": false,
     "start_time": "2024-07-20T05:49:14.737061",
     "status": "completed"
    },
    "tags": []
   },
   "outputs": [
    {
     "name": "stdout",
     "output_type": "stream",
     "text": [
      "[ True  True  True  True  True  True  True False  True False  True  True\n",
      " False  True  True False  True False  True  True  True  True False  True\n",
      "  True  True  True False  True  True  True  True False  True  True  True\n",
      "  True  True  True  True False  True  True  True  True  True  True False\n",
      "  True  True  True False  True  True  True  True  True  True  True  True\n",
      "  True  True False  True  True  True  True False  True  True  True  True\n",
      "  True  True  True  True  True  True False  True  True  True False  True\n",
      "  True False  True  True  True  True  True  True  True  True False  True\n",
      " False  True  True  True  True False  True  True  True False False  True\n",
      "  True  True  True  True  True  True False  True  True  True False False\n",
      " False  True  True  True  True  True  True  True  True False False False\n",
      " False  True  True  True  True  True  True  True False  True  True  True\n",
      " False  True  True  True  True  True False False  True  True  True  True\n",
      "  True  True  True  True  True False  True False  True  True  True  True\n",
      "  True  True  True  True  True  True  True False  True False  True  True\n",
      "  True  True  True  True False  True  True  True False  True False False\n",
      "  True  True  True  True  True False  True  True  True  True  True False\n",
      " False  True  True  True  True  True False  True  True  True  True  True\n",
      "  True False  True  True  True  True False  True  True False False False\n",
      "  True  True  True  True False  True  True  True  True False  True  True\n",
      "  True  True  True False False  True  True  True  True False False  True\n",
      "  True False  True False False False  True  True  True False False  True\n",
      "  True  True False  True  True  True  True  True  True  True  True  True\n",
      " False  True False  True  True  True  True False  True  True  True  True\n",
      "  True  True  True  True  True  True  True  True  True  True  True False\n",
      "  True  True  True False False  True  True  True  True  True  True  True\n",
      "  True  True  True  True  True  True False  True  True  True  True  True\n",
      " False  True  True  True  True  True  True  True False  True  True  True\n",
      " False False  True  True  True  True  True  True  True  True  True  True\n",
      " False False  True False  True  True  True  True  True  True  True  True\n",
      " False  True  True  True False  True  True  True False  True  True  True\n",
      "  True  True  True  True  True  True  True  True False  True False  True\n",
      "  True  True False  True  True False  True False  True  True  True False\n",
      "  True  True  True  True  True  True  True  True  True  True  True  True\n",
      "  True  True False  True  True  True  True  True  True  True  True  True\n",
      "  True  True  True False  True False  True  True  True  True  True False\n",
      "  True  True  True False  True  True False  True  True  True  True  True\n",
      " False  True  True  True False  True False  True  True False  True False\n",
      "  True  True  True  True  True  True  True  True  True  True False  True\n",
      "  True False False  True False False  True  True  True  True  True  True\n",
      "  True False False  True False  True  True  True  True  True  True  True\n",
      "  True  True  True  True  True False False  True  True False  True  True\n",
      "  True  True  True  True False  True  True False]\n"
     ]
    }
   ],
   "source": [
    "import pickle\n",
    "# Replace 'path_to_model.pkl' with the path to your pickle file\n",
    "with open('/kaggle/input/vgg16-selected-features/boruta_selector.pkl', 'rb') as file:\n",
    "    boruta_selector = pickle.load(file)\n",
    "selected_feature_indices = boruta_selector.support_\n",
    "\n",
    "print(selected_feature_indices)\n",
    "\n",
    "test_folder = '/kaggle/input/balanced-training-data/new_balanced_dataset/test'\n",
    "class_names = sorted(os.listdir(test_folder))"
   ]
  },
  {
   "cell_type": "code",
   "execution_count": 17,
   "id": "906c28ea",
   "metadata": {
    "execution": {
     "iopub.execute_input": "2024-07-20T05:49:14.861626Z",
     "iopub.status.busy": "2024-07-20T05:49:14.861365Z",
     "iopub.status.idle": "2024-07-20T05:49:18.060975Z",
     "shell.execute_reply": "2024-07-20T05:49:18.059867Z"
    },
    "papermill": {
     "duration": 3.230349,
     "end_time": "2024-07-20T05:49:18.062924",
     "exception": false,
     "start_time": "2024-07-20T05:49:14.832575",
     "status": "completed"
    },
    "tags": []
   },
   "outputs": [
    {
     "name": "stderr",
     "output_type": "stream",
     "text": [
      "2024-07-20 05:49:16.121582: E external/local_xla/xla/service/gpu/buffer_comparator.cc:1137] Difference at 0: 4.42855, expected 3.64542\n",
      "2024-07-20 05:49:16.121635: E external/local_xla/xla/service/gpu/buffer_comparator.cc:1137] Difference at 1: 5.87036, expected 5.08723\n",
      "2024-07-20 05:49:16.121650: E external/local_xla/xla/service/gpu/buffer_comparator.cc:1137] Difference at 2: 6.04003, expected 5.2569\n",
      "2024-07-20 05:49:16.121663: E external/local_xla/xla/service/gpu/buffer_comparator.cc:1137] Difference at 3: 6.22034, expected 5.43722\n",
      "2024-07-20 05:49:16.121676: E external/local_xla/xla/service/gpu/buffer_comparator.cc:1137] Difference at 4: 4.90026, expected 4.11714\n",
      "2024-07-20 05:49:16.121686: E external/local_xla/xla/service/gpu/buffer_comparator.cc:1137] Difference at 5: 5.21068, expected 4.42756\n",
      "2024-07-20 05:49:16.121697: E external/local_xla/xla/service/gpu/buffer_comparator.cc:1137] Difference at 6: 5.92061, expected 5.13748\n",
      "2024-07-20 05:49:16.121708: E external/local_xla/xla/service/gpu/buffer_comparator.cc:1137] Difference at 7: 5.34421, expected 4.56109\n",
      "2024-07-20 05:49:16.121719: E external/local_xla/xla/service/gpu/buffer_comparator.cc:1137] Difference at 8: 4.55002, expected 3.76689\n",
      "2024-07-20 05:49:16.121730: E external/local_xla/xla/service/gpu/buffer_comparator.cc:1137] Difference at 9: 5.10735, expected 4.32423\n",
      "2024-07-20 05:49:16.123071: E external/local_xla/xla/service/gpu/conv_algorithm_picker.cc:705] Results mismatch between different convolution algorithms. This is likely a bug/unexpected loss of precision in cudnn.\n",
      "(f32[1,64,224,224]{3,2,1,0}, u8[0]{0}) custom-call(f32[1,3,224,224]{3,2,1,0}, f32[64,3,3,3]{3,2,1,0}, f32[64]{0}), window={size=3x3 pad=1_1x1_1}, dim_labels=bf01_oi01->bf01, custom_call_target=\"__cudnn$convBiasActivationForward\", backend_config={\"conv_result_scale\":1,\"activation_mode\":\"kRelu\",\"side_input_scale\":0,\"leakyrelu_alpha\":0} for eng20{k2=1,k4=1,k5=1,k6=0,k7=0} vs eng15{k5=1,k6=0,k7=1,k10=1}\n",
      "2024-07-20 05:49:16.123103: E external/local_xla/xla/service/gpu/conv_algorithm_picker.cc:270] Device: Tesla P100-PCIE-16GB\n",
      "2024-07-20 05:49:16.123119: E external/local_xla/xla/service/gpu/conv_algorithm_picker.cc:271] Platform: Compute Capability 6.0\n",
      "2024-07-20 05:49:16.123132: E external/local_xla/xla/service/gpu/conv_algorithm_picker.cc:272] Driver: 12040 (550.90.7)\n",
      "2024-07-20 05:49:16.123143: E external/local_xla/xla/service/gpu/conv_algorithm_picker.cc:273] Runtime: <undefined>\n",
      "2024-07-20 05:49:16.123161: E external/local_xla/xla/service/gpu/conv_algorithm_picker.cc:280] cudnn version: 8.9.0\n",
      "2024-07-20 05:49:16.247049: E external/local_xla/xla/service/gpu/buffer_comparator.cc:1137] Difference at 0: 4.42855, expected 3.64542\n",
      "2024-07-20 05:49:16.247097: E external/local_xla/xla/service/gpu/buffer_comparator.cc:1137] Difference at 1: 5.87036, expected 5.08723\n",
      "2024-07-20 05:49:16.247106: E external/local_xla/xla/service/gpu/buffer_comparator.cc:1137] Difference at 2: 6.04003, expected 5.2569\n",
      "2024-07-20 05:49:16.247115: E external/local_xla/xla/service/gpu/buffer_comparator.cc:1137] Difference at 3: 6.22034, expected 5.43722\n",
      "2024-07-20 05:49:16.247123: E external/local_xla/xla/service/gpu/buffer_comparator.cc:1137] Difference at 4: 4.90026, expected 4.11714\n",
      "2024-07-20 05:49:16.247131: E external/local_xla/xla/service/gpu/buffer_comparator.cc:1137] Difference at 5: 5.21068, expected 4.42756\n",
      "2024-07-20 05:49:16.247139: E external/local_xla/xla/service/gpu/buffer_comparator.cc:1137] Difference at 6: 5.92061, expected 5.13748\n",
      "2024-07-20 05:49:16.247147: E external/local_xla/xla/service/gpu/buffer_comparator.cc:1137] Difference at 7: 5.34421, expected 4.56109\n",
      "2024-07-20 05:49:16.247166: E external/local_xla/xla/service/gpu/buffer_comparator.cc:1137] Difference at 8: 4.55002, expected 3.76689\n",
      "2024-07-20 05:49:16.247175: E external/local_xla/xla/service/gpu/buffer_comparator.cc:1137] Difference at 9: 5.10735, expected 4.32423\n",
      "2024-07-20 05:49:16.247191: E external/local_xla/xla/service/gpu/conv_algorithm_picker.cc:705] Results mismatch between different convolution algorithms. This is likely a bug/unexpected loss of precision in cudnn.\n",
      "(f32[1,64,224,224]{3,2,1,0}, u8[0]{0}) custom-call(f32[1,3,224,224]{3,2,1,0}, f32[64,3,3,3]{3,2,1,0}, f32[64]{0}), window={size=3x3 pad=1_1x1_1}, dim_labels=bf01_oi01->bf01, custom_call_target=\"__cudnn$convBiasActivationForward\", backend_config={\"conv_result_scale\":1,\"activation_mode\":\"kRelu\",\"side_input_scale\":0,\"leakyrelu_alpha\":0} for eng20{k2=1,k4=1,k5=1,k6=0,k7=0} vs eng15{k5=1,k6=0,k7=1,k10=1}\n",
      "2024-07-20 05:49:16.247200: E external/local_xla/xla/service/gpu/conv_algorithm_picker.cc:270] Device: Tesla P100-PCIE-16GB\n",
      "2024-07-20 05:49:16.247208: E external/local_xla/xla/service/gpu/conv_algorithm_picker.cc:271] Platform: Compute Capability 6.0\n",
      "2024-07-20 05:49:16.247215: E external/local_xla/xla/service/gpu/conv_algorithm_picker.cc:272] Driver: 12040 (550.90.7)\n",
      "2024-07-20 05:49:16.247222: E external/local_xla/xla/service/gpu/conv_algorithm_picker.cc:273] Runtime: <undefined>\n",
      "2024-07-20 05:49:16.247234: E external/local_xla/xla/service/gpu/conv_algorithm_picker.cc:280] cudnn version: 8.9.0\n"
     ]
    },
    {
     "name": "stdout",
     "output_type": "stream",
     "text": [
      "\u001b[1m1/1\u001b[0m \u001b[32m━━━━━━━━━━━━━━━━━━━━\u001b[0m\u001b[37m\u001b[0m \u001b[1m2s\u001b[0m 2s/step\n",
      "\u001b[1m1/1\u001b[0m \u001b[32m━━━━━━━━━━━━━━━━━━━━\u001b[0m\u001b[37m\u001b[0m \u001b[1m0s\u001b[0m 229ms/step\n",
      "Predicted class: 1\n",
      "[[0.0108342 0.6153184 0.3738474]]\n"
     ]
    }
   ],
   "source": [
    "# Load your trained models\n",
    "classification_model = load_model('/kaggle/working/best_model.keras')  # Replace with your classification model path\n",
    "\n",
    "# Single image path you want to predict\n",
    "single_image_path = '/kaggle/input/balanced-training-data/new_balanced_dataset/test/1/1 (1126).png'  # Replace with your single image path\n",
    "\n",
    "# Extract features for the single image using the function\n",
    "single_image_features = extract_features_from_image(single_image_path, feature_extraction_model)\n",
    "\n",
    "# Ensure features are reshaped or flattened appropriately\n",
    "single_image_features = single_image_features.reshape(1, -1)  # Reshape to (1, 512), adjust 512 as per actual feature size\n",
    "\n",
    "# Filter the validation features\n",
    "single_image_features = single_image_features[:, selected_feature_indices]\n",
    "\n",
    "# Perform any necessary scaling (if `scaler` is defined elsewhere)\n",
    "single_image_features = scaler.transform(single_image_features)\n",
    "\n",
    "# Predict using your classification model\n",
    "predicted_probabilities = classification_model.predict(single_image_features)\n",
    "predicted_class_index = np.argmax(predicted_probabilities, axis=1)[0]  # Assuming single prediction\n",
    "predicted_class = class_names[predicted_class_index]  # Replace `class_names` with your actual class names list\n",
    "\n",
    "print(\"Predicted class:\", predicted_class)\n",
    "print(predicted_probabilities)"
   ]
  },
  {
   "cell_type": "code",
   "execution_count": null,
   "id": "d455fa48",
   "metadata": {
    "papermill": {
     "duration": 0.028278,
     "end_time": "2024-07-20T05:49:18.121540",
     "exception": false,
     "start_time": "2024-07-20T05:49:18.093262",
     "status": "completed"
    },
    "tags": []
   },
   "outputs": [],
   "source": []
  },
  {
   "cell_type": "code",
   "execution_count": null,
   "id": "76a82c75",
   "metadata": {
    "papermill": {
     "duration": 0.028692,
     "end_time": "2024-07-20T05:49:18.179038",
     "exception": false,
     "start_time": "2024-07-20T05:49:18.150346",
     "status": "completed"
    },
    "tags": []
   },
   "outputs": [],
   "source": []
  }
 ],
 "metadata": {
  "kaggle": {
   "accelerator": "gpu",
   "dataSources": [
    {
     "datasetId": 5354125,
     "sourceId": 8905281,
     "sourceType": "datasetVersion"
    },
    {
     "datasetId": 5406123,
     "sourceId": 8978171,
     "sourceType": "datasetVersion"
    },
    {
     "datasetId": 5399918,
     "sourceId": 8993693,
     "sourceType": "datasetVersion"
    },
    {
     "datasetId": 5418166,
     "sourceId": 8995297,
     "sourceType": "datasetVersion"
    }
   ],
   "dockerImageVersionId": 30747,
   "isGpuEnabled": true,
   "isInternetEnabled": true,
   "language": "python",
   "sourceType": "notebook"
  },
  "kernelspec": {
   "display_name": "Python 3",
   "language": "python",
   "name": "python3"
  },
  "language_info": {
   "codemirror_mode": {
    "name": "ipython",
    "version": 3
   },
   "file_extension": ".py",
   "mimetype": "text/x-python",
   "name": "python",
   "nbconvert_exporter": "python",
   "pygments_lexer": "ipython3",
   "version": "3.10.13"
  },
  "papermill": {
   "default_parameters": {},
   "duration": 62.166224,
   "end_time": "2024-07-20T05:49:20.481757",
   "environment_variables": {},
   "exception": null,
   "input_path": "__notebook__.ipynb",
   "output_path": "__notebook__.ipynb",
   "parameters": {},
   "start_time": "2024-07-20T05:48:18.315533",
   "version": "2.5.0"
  }
 },
 "nbformat": 4,
 "nbformat_minor": 5
}
