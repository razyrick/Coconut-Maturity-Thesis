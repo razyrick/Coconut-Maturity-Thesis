version https://git-lfs.github.com/spec/v1
oid sha256:b2f2ac5ecade2c0fa9c299281483a41f7d4315143e18e0ebc20111e42412f14d
size 506200
