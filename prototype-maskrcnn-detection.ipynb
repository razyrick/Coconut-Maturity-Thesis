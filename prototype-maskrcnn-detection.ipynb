version https://git-lfs.github.com/spec/v1
oid sha256:cdad284b295bbaca466f8732cd56dd565f7f3d8abd947a9f43353376c3bc9f32
size 74635
